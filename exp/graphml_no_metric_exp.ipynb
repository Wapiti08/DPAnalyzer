{
 "cells": [
  {
   "cell_type": "code",
   "execution_count": null,
   "id": "ce0ab004-a181-497b-bb71-4f70f2ef4b12",
   "metadata": {},
   "outputs": [],
   "source": [
    "from lxml import etree\n",
    "\n",
    "def parse_graphml_in_chunks(file_path):\n",
    "    # Initialize nodes and edges\n",
    "    nodes = {}\n",
    "    edges = []\n",
    "\n",
    "    # Initialize the context for parsing the GraphML file\n",
    "    try:\n",
    "        context = etree.iterparse(file_path, events=(\"start\", \"end\"), recover=True)\n",
    "        \n",
    "        # Iterate over the parsed elements\n",
    "        for event, elem in context:\n",
    "            if event == \"end\":\n",
    "                try:\n",
    "                    if elem.tag == \"{http://graphml.graphdrawing.org/xmlns}node\":\n",
    "                        # Process node\n",
    "                        node_id = elem.attrib['id']\n",
    "                        # Extract other attributes if needed\n",
    "                        attributes = {data.attrib['key']: data.text for data in elem.findall(\"{http://graphml.graphdrawing.org/xmlns}data\")}\n",
    "                        nodes[node_id] = attributes\n",
    "\n",
    "                    elif elem.tag == \"{http://graphml.graphdrawing.org/xmlns}edge\":\n",
    "                        # Process edge\n",
    "                        source = elem.attrib['source']\n",
    "                        target = elem.attrib['target']\n",
    "                        # Extract edge attributes\n",
    "                        attributes = {data.attrib['key']: data.text for data in elem.findall(\"{http://graphml.graphdrawing.org/xmlns}data\")}\n",
    "                        edges.append((source, target, attributes))\n",
    "                \n",
    "                except (KeyError, ValueError) as inner_error:\n",
    "                    pass\n",
    "                \n",
    "                # Clear the element to free memory after processing\n",
    "                elem.clear()\n",
    "\n",
    "        # Clear the context to free memory\n",
    "        del context\n",
    "    except etree.XMLSyntaxError as e:\n",
    "        print(f\"XML Syntax Error: {e}\")\n",
    "        # Optionally: log the error, return partial results, or raise the error\n",
    "\n",
    "    return nodes, edges\n",
    "\n",
    "# Usage\n",
    "nodes, edges = parse_graphml_in_chunks('../data/graph_no_metric_part.graphml')"
   ]
  },
  {
   "cell_type": "code",
   "execution_count": 5,
   "id": "ee25f9c8-7f41-4ce8-a3af-adc9c4084fa0",
   "metadata": {},
   "outputs": [
    {
     "data": {
      "text/plain": [
       "dict"
      ]
     },
     "execution_count": 5,
     "metadata": {},
     "output_type": "execute_result"
    }
   ],
   "source": [
    "type(nodes)"
   ]
  },
  {
   "cell_type": "code",
   "execution_count": 12,
   "id": "faa8888f-778c-475b-9c82-ff9d7bac804a",
   "metadata": {},
   "outputs": [
    {
     "name": "stdout",
     "output_type": "stream",
     "text": [
      "0\n"
     ]
    }
   ],
   "source": [
    "print(len(nodes))"
   ]
  },
  {
   "cell_type": "code",
   "execution_count": 11,
   "id": "91c75566-87d8-4f18-a326-4afc9bc92081",
   "metadata": {},
   "outputs": [
    {
     "name": "stdout",
     "output_type": "stream",
     "text": [
      "[]\n"
     ]
    },
    {
     "ename": "ValueError",
     "evalue": "max() arg is an empty sequence",
     "output_type": "error",
     "traceback": [
      "\u001b[0;31m---------------------------------------------------------------------------\u001b[0m",
      "\u001b[0;31mValueError\u001b[0m                                Traceback (most recent call last)",
      "Cell \u001b[0;32mIn[11], line 20\u001b[0m\n\u001b[1;32m     18\u001b[0m degree_centrality \u001b[38;5;241m=\u001b[39m g\u001b[38;5;241m.\u001b[39mdegree()\n\u001b[1;32m     19\u001b[0m \u001b[38;5;28mprint\u001b[39m(degree_centrality)\n\u001b[0;32m---> 20\u001b[0m max_degree \u001b[38;5;241m=\u001b[39m \u001b[38;5;28;43mmax\u001b[39;49m\u001b[43m(\u001b[49m\u001b[43mdegree_centrality\u001b[49m\u001b[43m)\u001b[49m\n\u001b[1;32m     21\u001b[0m normalized_degree_centrality \u001b[38;5;241m=\u001b[39m [dc \u001b[38;5;241m/\u001b[39m (max_degree \u001b[38;5;28;01mif\u001b[39;00m max_degree \u001b[38;5;241m>\u001b[39m \u001b[38;5;241m0\u001b[39m \u001b[38;5;28;01melse\u001b[39;00m \u001b[38;5;241m1\u001b[39m) \u001b[38;5;28;01mfor\u001b[39;00m dc \u001b[38;5;129;01min\u001b[39;00m degree_centrality]\n\u001b[1;32m     23\u001b[0m \u001b[38;5;66;03m# Print results\u001b[39;00m\n",
      "\u001b[0;31mValueError\u001b[0m: max() arg is an empty sequence"
     ]
    }
   ],
   "source": [
    "import igraph as ig\n",
    "\n",
    "g = ig.Graph()\n",
    "\n",
    "g.add_vertices(len(nodes))\n",
    "\n",
    "# set vertex attributes\n",
    "for i, (node_id, attributes) in enumerate(nodes.items()):\n",
    "    g.vs[i][\"id\"] = node_id\n",
    "    for key, value in attributes.items():\n",
    "        g.vs[i][key] = value\n",
    "\n",
    "# add edges\n",
    "edge_list = [(nodes[source]['id'], nodes[target]['id']) for source, target, _ in edges]\n",
    "g.add_edges(edge_list)\n",
    "\n"
   ]
  },
  {
   "cell_type": "code",
   "execution_count": null,
   "id": "075b2f0c-73fe-4692-b304-55551f1e37c2",
   "metadata": {},
   "outputs": [],
   "source": [
    "# calculate degree centraility\n",
    "degree_centrality = g.degree()\n",
    "print(degree_centrality)\n",
    "max_degree = max(degree_centrality)\n",
    "normalized_degree_centrality = [dc / (max_degree if max_degree > 0 else 1) for dc in degree_centrality]\n",
    "\n",
    "# Print results\n",
    "for i in range(g.vcount()):\n",
    "    print(f\"Node ID: {g.vs[i]['id']}, Degree Centrality: {degree_centrality[i]}, Normalized Degree Centrality: {normalized_degree_centrality[i]:.4f}\")\n",
    "\n",
    "# Optional: Output some graph information\n",
    "print(\"Number of vertices:\", g.vcount())\n",
    "print(\"Number of edges:\", g.ecount())\n",
    "print(\"Graph summary:\")\n",
    "print(g.summary())"
   ]
  },
  {
   "cell_type": "markdown",
   "id": "c7434a21-1af5-4f0e-8b4b-6571e7d366a4",
   "metadata": {},
   "source": [
    "## print out the attributes of first 10 nodes"
   ]
  },
  {
   "cell_type": "code",
   "execution_count": null,
   "id": "b735e835-ae39-4f76-a45b-effd3c1b49a8",
   "metadata": {},
   "outputs": [],
   "source": [
    "for node, attrs in list(G.nodes(data=True))[:10]:\n",
    "    print(f\"Node {node}: {attrs}\")\n"
   ]
  },
  {
   "cell_type": "markdown",
   "id": "1ad61fec-0717-454f-87cc-cf21c3fac59a",
   "metadata": {},
   "source": [
    "## print our the attributes of first 10 edges"
   ]
  },
  {
   "cell_type": "code",
   "execution_count": null,
   "id": "092e38b8-9d93-4b32-bc4b-db794cf163bb",
   "metadata": {},
   "outputs": [],
   "source": [
    "for u, v, attrs in list(G.edges(data=True))[:10]:\n",
    "    print(f\"Edge {u}-{v}: {attrs}\")"
   ]
  },
  {
   "cell_type": "markdown",
   "id": "8adfee4a-5518-4714-8724-1c1f8e346c12",
   "metadata": {},
   "source": [
    "## measure the basic centrality"
   ]
  },
  {
   "cell_type": "code",
   "execution_count": null,
   "id": "e81d2ff7-a62d-4240-88ad-c909dba930f9",
   "metadata": {},
   "outputs": [],
   "source": []
  }
 ],
 "metadata": {
  "kernelspec": {
   "display_name": "Python 3 (ipykernel)",
   "language": "python",
   "name": "python3"
  },
  "language_info": {
   "codemirror_mode": {
    "name": "ipython",
    "version": 3
   },
   "file_extension": ".py",
   "mimetype": "text/x-python",
   "name": "python",
   "nbconvert_exporter": "python",
   "pygments_lexer": "ipython3",
   "version": "3.10.13"
  }
 },
 "nbformat": 4,
 "nbformat_minor": 5
}
