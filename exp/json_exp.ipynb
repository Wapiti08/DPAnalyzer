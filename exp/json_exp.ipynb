{
 "cells": [
  {
   "cell_type": "code",
   "execution_count": 29,
   "id": "a6fa82f7-4de2-4ceb-962d-a8f334ad944a",
   "metadata": {},
   "outputs": [],
   "source": [
    "import json"
   ]
  },
  {
   "cell_type": "code",
   "execution_count": 30,
   "id": "4dc45921-5c10-46de-8706-a6e1a353cda9",
   "metadata": {},
   "outputs": [],
   "source": [
    "# load json file to extend the node info\n",
    "with open(\"../data/aggregated_data.json\") as jr:\n",
    "    cve_json = json.load(jr)\n",
    "\n"
   ]
  },
  {
   "cell_type": "code",
   "execution_count": 18,
   "id": "83808c27-40e6-46a1-a5ae-9848bc1da970",
   "metadata": {},
   "outputs": [],
   "source": [
    "order = 0\n",
    "for key, value in cve_json.items():\n",
    "    while order >= 10:\n",
    "        print(key)\n",
    "        print(value)\n",
    "        order += 1\n",
    "        "
   ]
  },
  {
   "cell_type": "code",
   "execution_count": 15,
   "id": "69ca9d5d-7b8c-4ce9-ae5a-47a6938662f2",
   "metadata": {},
   "outputs": [
    {
     "data": {
      "text/plain": [
       "['org.jenkins-ci.main:cli:1.591',\n",
       " 'org.elasticsearch:elasticsearch-hadoop:2.2.0-beta1',\n",
       " 'org.jvnet.hudson.main:hudson-core:1.128',\n",
       " 'net.sourceforge.htmlunit:neko-htmlunit:2.47.0',\n",
       " 'org.jenkins-ci.main:cli:1.592',\n",
       " 'org.jvnet.hudson.main:hudson-core:1.129',\n",
       " 'net.sourceforge.htmlunit:neko-htmlunit:2.47.1',\n",
       " 'org.springframework.boot:spring-boot-actuator:1.2.6.RELEASE',\n",
       " 'org.jenkins-ci.main:cli:1.593',\n",
       " 'org.jenkins-ci.main:cli:1.594',\n",
       " 'org.jvnet.hudson.main:hudson-core:1.124',\n",
       " 'org.xwiki.rendering:xwiki-rendering-syntax-xhtml:7.3-milestone-1',\n",
       " 'org.jvnet.hudson.main:hudson-core:1.125',\n",
       " 'org.jvnet.hudson.main:hudson-core:1.126',\n",
       " 'org.jenkins-ci.main:cli:1.590',\n",
       " 'org.jvnet.hudson.main:hudson-core:1.127',\n",
       " 'org.jvnet.hudson.main:hudson-core:1.120',\n",
       " 'org.jvnet.hudson.main:hudson-core:1.121',\n",
       " 'org.jvnet.hudson.main:hudson-core:1.122',\n",
       " 'org.jvnet.hudson.main:hudson-core:1.123']"
      ]
     },
     "execution_count": 15,
     "metadata": {},
     "output_type": "execute_result"
    }
   ],
   "source": [
    "list(cve_json.keys())[:20]"
   ]
  },
  {
   "cell_type": "code",
   "execution_count": 12,
   "id": "b48b2527-9314-4325-b8a9-75c476fb2de5",
   "metadata": {},
   "outputs": [
    {
     "data": {
      "text/plain": [
       "97054"
      ]
     },
     "execution_count": 12,
     "metadata": {},
     "output_type": "execute_result"
    }
   ],
   "source": [
    "len(list(cve_json.keys()))"
   ]
  },
  {
   "cell_type": "markdown",
   "id": "c556dd5d-00ac-4876-ad12-49421ef5ddae",
   "metadata": {},
   "source": [
    "# Statistical Analysis Results"
   ]
  },
  {
   "cell_type": "code",
   "execution_count": 31,
   "id": "5d462534-ae75-44ef-bcda-445ca3a93cd3",
   "metadata": {},
   "outputs": [],
   "source": [
    "# define the mapping dict of ecosystem to packages\n",
    "eco_dict = {\n",
    "    \"Maven\": [\"springframework\", \"jenkins-ci\", 'apache', \"sourceforge\",\"craftercms\",\n",
    "              \"wso2\", \"jvnet\",\"puppycrawl\",\"liferay\",\"elasticsearch\",\"undertow\",\"graphql-java\",\n",
    "             \"djl\", \"erudika\"],\n",
    "    \"NPM\": [\"vue\", \"npm\", \"angular\", \"react\"],\n",
    "    \"Ruby\": [\"rubygems\"],\n",
    "    \"Pypi\":[\"python\"],\n",
    "    \n",
    "}\n",
    "\n",
    "def eco_match(eco_dict, release_name):\n",
    "    ''' match packages/releases to ecosystem\n",
    "    :param eco_dict: the mapping dict to match release to its ecosystem\n",
    "    :param release_name: the release name to match\n",
    "    :return ecosystem name\n",
    "    \n",
    "    '''\n",
    "    for key, values in eco_dict.items():\n",
    "        for value in values:\n",
    "            if value in release_name:\n",
    "                return key\n",
    "        # no match\n",
    "    # print(\"there is no matched ecosystem for: \", release_name)\n",
    "    # print(\"return default ecosystem\")\n",
    "    return \"Maven\"\n",
    "    \n",
    "    \n",
    "    "
   ]
  },
  {
   "cell_type": "code",
   "execution_count": 32,
   "id": "9d7a9d35-3d75-4d48-a7e1-536639b523a3",
   "metadata": {},
   "outputs": [],
   "source": [
    "release_list = list(cve_json.keys())\n",
    "eco_system_dict = {}\n",
    "eco_system = []\n",
    "for key in key_list:\n",
    "    res = eco_match(eco_dict, key)\n",
    "    eco_system.append(res)\n",
    "    if release not in eco_system_dict:\n",
    "        eco_system_dict[release] = res\n"
   ]
  },
  {
   "cell_type": "code",
   "execution_count": 37,
   "id": "be966517-75d5-4882-91ab-cd51c0aa75ea",
   "metadata": {},
   "outputs": [],
   "source": [
    "eco_cves_dict = {\n",
    "    \"Maven\":[],\n",
    "    \"NPM\":[],\n",
    "    \"Ruby\":[],\n",
    "    \"Pypi\":[],\n",
    "}\n",
    "\n",
    "for release, cves in cve_json.items():\n",
    "    eco_cves_dict[eco_system_dict[release]].append(len(cves))\n",
    "    \n",
    "    "
   ]
  },
  {
   "cell_type": "code",
   "execution_count": 40,
   "id": "61dc52e2-c4f7-40e5-a0d5-0f30e8ea2b9f",
   "metadata": {},
   "outputs": [
    {
     "name": "stdout",
     "output_type": "stream",
     "text": [
      "Counter({'Maven': 95551, 'NPM': 1314, 'Ruby': 148, 'Pypi': 41})\n",
      "The mean number of existing CVEs in ecosystem Maven is: 2\n",
      "The mean number of existing CVEs in ecosystem NPM is: 2\n",
      "The mean number of existing CVEs in ecosystem Ruby is: 2\n",
      "The mean number of existing CVEs in ecosystem Pypi is: 2\n"
     ]
    }
   ],
   "source": [
    "# calculate the mean CVEs for diverse ecosystems\n",
    "from collections import Counter\n",
    "import statistics\n",
    "\n",
    "print(Counter(eco_system))\n",
    "for eco, cve_len_list in eco_cves_dict.items():\n",
    "    mean_num = statistics.mean(cve_len_list)\n",
    "    print(\"The mean number of existing CVEs in ecosystem {} is: {}\".format(eco, max_num))\n",
    "\n"
   ]
  },
  {
   "cell_type": "code",
   "execution_count": 38,
   "id": "601876e9-c9dc-4137-8607-25e42f560213",
   "metadata": {},
   "outputs": [
    {
     "name": "stdout",
     "output_type": "stream",
     "text": [
      "The max number of existing CVEs in ecosystem Maven is: 176\n",
      "The max number of existing CVEs in ecosystem NPM is: 8\n",
      "The max number of existing CVEs in ecosystem Ruby is: 7\n",
      "The max number of existing CVEs in ecosystem Pypi is: 2\n"
     ]
    }
   ],
   "source": [
    "# calculate the highest number of CVEs for diverse ecosystems\n",
    "for eco, cve_len_list in eco_cves_dict.items():\n",
    "    max_num = max(cve_len_list)\n",
    "    print(\"The max number of existing CVEs in ecosystem {} is: {}\".format(eco, max_num))\n"
   ]
  },
  {
   "cell_type": "code",
   "execution_count": 39,
   "id": "0a859aa2-1ac7-4d42-808e-ab0870b4f932",
   "metadata": {},
   "outputs": [
    {
     "name": "stdout",
     "output_type": "stream",
     "text": [
      "The median number of existing CVEs in ecosystem Maven is: 1\n",
      "The median number of existing CVEs in ecosystem NPM is: 1.0\n",
      "The median number of existing CVEs in ecosystem Ruby is: 6.0\n",
      "The median number of existing CVEs in ecosystem Pypi is: 1\n"
     ]
    }
   ],
   "source": [
    "# calculate the median number of CVEs for diverse ecocystems\n",
    "for eco, cve_len_list in eco_cves_dict.items():\n",
    "    median_num = statistics.median(cve_len_list)\n",
    "    print(\"The median number of existing CVEs in ecosystem {} is: {}\".format(eco, median_num))\n"
   ]
  },
  {
   "cell_type": "code",
   "execution_count": 41,
   "id": "3422c15c-673a-4c2f-8997-a8bfac4ee416",
   "metadata": {},
   "outputs": [],
   "source": [
    "# visualize the statistic data in one chart\n",
    "mean_cves = {\n",
    "\"Maven\":2, \"NPM\":2, \"Ruby\":2, \"Pypi\":2\n",
    "}\n",
    "\n",
    "max_cves = {\n",
    "\"Maven\": 176, \"NPM\": 8, \"Ruby\": 7, \"Pypi\": 2\n",
    "}\n",
    "\n",
    "med_cves= {\n",
    "\"Maven\":1, \"NPM\":1, \"Ruby\":6, \"Pypi\":1\n",
    "}"
   ]
  },
  {
   "cell_type": "code",
   "execution_count": 42,
   "id": "35705e86-ceee-4da4-876c-93595b931f9f",
   "metadata": {},
   "outputs": [
    {
     "data": {
      "image/png": "[encoded data removed]",
      "text/plain": [
       "<Figure size 1000x600 with 1 Axes>"
      ]
     },
     "metadata": {},
     "output_type": "display_data"
    }
   ],
   "source": [
    "import matplotlib.pyplot as plt\n",
    "import numpy as np\n",
    "\n",
    "# Combine the data for plotting\n",
    "categories = list(mean_cves.keys())\n",
    "x_labels = ['Mean', 'Median', 'Max']\n",
    "data = {\n",
    "    'Maven': [mean_cves['Maven'], med_cves['Maven'], max_cves['Maven']],\n",
    "    'NPM': [mean_cves['NPM'], med_cves['NPM'], max_cves['NPM']],\n",
    "    'Ruby': [mean_cves['Ruby'], med_cves['Ruby'], max_cves['Ruby']],\n",
    "    'Pypi': [mean_cves['Pypi'], med_cves['Pypi'], max_cves['Pypi']]\n",
    "}\n",
    "\n",
    "# Create a bar chart\n",
    "bar_width = 0.2\n",
    "x = np.arange(len(x_labels))  # the label locations\n",
    "\n",
    "fig, ax = plt.subplots(figsize=(10, 6))\n",
    "\n",
    "# Plotting each set of data\n",
    "for i, (label, values) in enumerate(data.items()):\n",
    "    ax.bar(x + i * bar_width, values, bar_width, label=label)\n",
    "\n",
    "# Adding labels and title\n",
    "ax.set_xlabel('Statistics')\n",
    "ax.set_ylabel('Numbers')\n",
    "ax.set_title('CVEs Statistics by Type')\n",
    "ax.set_xticks(x + bar_width * 1.5)  # Centering the x ticks\n",
    "ax.set_xticklabels(x_labels)\n",
    "ax.legend(title='Package Managers')\n",
    "\n",
    "# Adding bar labels\n",
    "def add_labels(bars):\n",
    "    for bar in bars:\n",
    "        height = bar.get_height()\n",
    "        ax.annotate('{}'.format(height),\n",
    "                    xy=(bar.get_x() + bar.get_width() / 2, height),\n",
    "                    xytext=(0, 3),  # 3 points vertical offset\n",
    "                    textcoords=\"offset points\",\n",
    "                    ha='center', va='bottom')\n",
    "\n",
    "# Add labels for each set of bars\n",
    "for i in range(len(data)):\n",
    "    add_labels(ax.patches[i * len(x_labels):(i + 1) * len(x_labels)])\n",
    "\n",
    "plt.tight_layout()\n",
    "plt.show()"
   ]
  },
  {
   "cell_type": "code",
   "execution_count": null,
   "id": "511ce4a6-207e-4c6d-83ac-f221c596054a",
   "metadata": {},
   "outputs": [],
   "source": []
  }
 ],
 "metadata": {
  "kernelspec": {
   "display_name": "Python 3 (ipykernel)",
   "language": "python",
   "name": "python3"
  },
  "language_info": {
   "codemirror_mode": {
    "name": "ipython",
    "version": 3
   },
   "file_extension": ".py",
   "mimetype": "text/x-python",
   "name": "python",
   "nbconvert_exporter": "python",
   "pygments_lexer": "ipython3",
   "version": "3.8.10"
  }
 },
 "nbformat": 4,
 "nbformat_minor": 5
}
