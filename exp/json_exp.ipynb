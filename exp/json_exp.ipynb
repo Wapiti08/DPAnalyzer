{
 "cells": [
  {
   "cell_type": "code",
   "execution_count": 5,
   "id": "a6fa82f7-4de2-4ceb-962d-a8f334ad944a",
   "metadata": {},
   "outputs": [],
   "source": [
    "import json"
   ]
  },
  {
   "cell_type": "code",
   "execution_count": 6,
   "id": "4dc45921-5c10-46de-8706-a6e1a353cda9",
   "metadata": {},
   "outputs": [],
   "source": [
    "# load json file to extend the node info\n",
    "with open(\"../data/aggregated_data.json\") as jr:\n",
    "    cve_json = json.load(jr)\n",
    "\n"
   ]
  },
  {
   "cell_type": "code",
   "execution_count": 7,
   "id": "83808c27-40e6-46a1-a5ae-9848bc1da970",
   "metadata": {},
   "outputs": [],
   "source": [
    "order = 0\n",
    "for key, value in cve_json.items():\n",
    "    while order >= 10:\n",
    "        print(key)\n",
    "        print(value)\n",
    "        order += 1\n",
    "        "
   ]
  },
  {
   "cell_type": "code",
   "execution_count": 8,
   "id": "69ca9d5d-7b8c-4ce9-ae5a-47a6938662f2",
   "metadata": {},
   "outputs": [
    {
     "data": {
      "text/plain": [
       "['org.jenkins-ci.main:cli:1.591',\n",
       " 'org.elasticsearch:elasticsearch-hadoop:2.2.0-beta1',\n",
       " 'org.jvnet.hudson.main:hudson-core:1.128',\n",
       " 'net.sourceforge.htmlunit:neko-htmlunit:2.47.0',\n",
       " 'org.jenkins-ci.main:cli:1.592',\n",
       " 'org.jvnet.hudson.main:hudson-core:1.129',\n",
       " 'net.sourceforge.htmlunit:neko-htmlunit:2.47.1',\n",
       " 'org.springframework.boot:spring-boot-actuator:1.2.6.RELEASE',\n",
       " 'org.jenkins-ci.main:cli:1.593',\n",
       " 'org.jenkins-ci.main:cli:1.594',\n",
       " 'org.jvnet.hudson.main:hudson-core:1.124',\n",
       " 'org.xwiki.rendering:xwiki-rendering-syntax-xhtml:7.3-milestone-1',\n",
       " 'org.jvnet.hudson.main:hudson-core:1.125',\n",
       " 'org.jvnet.hudson.main:hudson-core:1.126',\n",
       " 'org.jenkins-ci.main:cli:1.590',\n",
       " 'org.jvnet.hudson.main:hudson-core:1.127',\n",
       " 'org.jvnet.hudson.main:hudson-core:1.120',\n",
       " 'org.jvnet.hudson.main:hudson-core:1.121',\n",
       " 'org.jvnet.hudson.main:hudson-core:1.122',\n",
       " 'org.jvnet.hudson.main:hudson-core:1.123']"
      ]
     },
     "execution_count": 8,
     "metadata": {},
     "output_type": "execute_result"
    }
   ],
   "source": [
    "list(cve_json.keys())[:20]"
   ]
  },
  {
   "cell_type": "code",
   "execution_count": 9,
   "id": "b48b2527-9314-4325-b8a9-75c476fb2de5",
   "metadata": {},
   "outputs": [
    {
     "data": {
      "text/plain": [
       "97054"
      ]
     },
     "execution_count": 9,
     "metadata": {},
     "output_type": "execute_result"
    }
   ],
   "source": [
    "len(list(cve_json.keys()))"
   ]
  },
  {
   "cell_type": "markdown",
   "id": "c556dd5d-00ac-4876-ad12-49421ef5ddae",
   "metadata": {},
   "source": [
    "# Statistical Analysis Results"
   ]
  },
  {
   "cell_type": "code",
   "execution_count": 10,
   "id": "5d462534-ae75-44ef-bcda-445ca3a93cd3",
   "metadata": {},
   "outputs": [],
   "source": [
    "# define the mapping dict of ecosystem to packages\n",
    "eco_dict = {\n",
    "    \"Maven\": [\"springframework\", \"jenkins-ci\", 'apache', \"sourceforge\",\"craftercms\",\n",
    "              \"wso2\", \"jvnet\",\"puppycrawl\",\"liferay\",\"elasticsearch\",\"undertow\",\"graphql-java\",\n",
    "             \"djl\", \"erudika\"],\n",
    "    \"NPM\": [\"vue\", \"npm\", \"angular\", \"react\"],\n",
    "    \"Ruby\": [\"rubygems\"],\n",
    "    \"Pypi\":[\"python\"],\n",
    "    \n",
    "}\n",
    "\n",
    "def eco_match(eco_dict, release_name):\n",
    "    ''' match packages/releases to ecosystem\n",
    "    :param eco_dict: the mapping dict to match release to its ecosystem\n",
    "    :param release_name: the release name to match\n",
    "    :return ecosystem name\n",
    "    \n",
    "    '''\n",
    "    for key, values in eco_dict.items():\n",
    "        for value in values:\n",
    "            if value in release_name:\n",
    "                return key\n",
    "        # no match\n",
    "    # print(\"there is no matched ecosystem for: \", release_name)\n",
    "    # print(\"return default ecosystem\")\n",
    "    return \"Maven\"\n",
    "    \n",
    "    \n",
    "    "
   ]
  },
  {
   "cell_type": "code",
   "execution_count": 11,
   "id": "9d7a9d35-3d75-4d48-a7e1-536639b523a3",
   "metadata": {},
   "outputs": [],
   "source": [
    "release_list = list(cve_json.keys())\n",
    "eco_system_dict = {}\n",
    "eco_system = []\n",
    "for release in release_list:\n",
    "    res = eco_match(eco_dict, release)\n",
    "    eco_system.append(res)\n",
    "    if release not in eco_system_dict.keys():\n",
    "        eco_system_dict[release] = res\n"
   ]
  },
  {
   "cell_type": "code",
   "execution_count": 12,
   "id": "be966517-75d5-4882-91ab-cd51c0aa75ea",
   "metadata": {},
   "outputs": [],
   "source": [
    "eco_cves_dict = {\n",
    "    \"Maven\":[],\n",
    "    \"NPM\":[],\n",
    "    \"Ruby\":[],\n",
    "    \"Pypi\":[],\n",
    "}\n",
    "\n",
    "for release, cves in cve_json.items():\n",
    "    eco_cves_dict[eco_system_dict[release]].append(len(cves))\n",
    "    \n",
    "    "
   ]
  },
  {
   "cell_type": "code",
   "execution_count": 13,
   "id": "61dc52e2-c4f7-40e5-a0d5-0f30e8ea2b9f",
   "metadata": {},
   "outputs": [
    {
     "name": "stdout",
     "output_type": "stream",
     "text": [
      "Counter({'Maven': 95551, 'NPM': 1314, 'Ruby': 148, 'Pypi': 41})\n",
      "The mean number of existing CVEs in ecosystem Maven is: 3.3297820012349426\n",
      "The mean number of existing CVEs in ecosystem NPM is: 1.2861491628614916\n",
      "The mean number of existing CVEs in ecosystem Ruby is: 6.277027027027027\n",
      "The mean number of existing CVEs in ecosystem Pypi is: 1.4390243902439024\n"
     ]
    }
   ],
   "source": [
    "# calculate the mean CVEs for diverse ecosystems\n",
    "from collections import Counter\n",
    "import statistics\n",
    "\n",
    "print(Counter(eco_system))\n",
    "for eco, cve_len_list in eco_cves_dict.items():\n",
    "    mean_num = statistics.mean(cve_len_list)\n",
    "    print(\"The mean number of existing CVEs in ecosystem {} is: {}\".format(eco, mean_num))\n",
    "\n"
   ]
  },
  {
   "cell_type": "code",
   "execution_count": 14,
   "id": "601876e9-c9dc-4137-8607-25e42f560213",
   "metadata": {},
   "outputs": [
    {
     "name": "stdout",
     "output_type": "stream",
     "text": [
      "The max number of existing CVEs in ecosystem Maven is: 176\n",
      "The max number of existing CVEs in ecosystem NPM is: 8\n",
      "The max number of existing CVEs in ecosystem Ruby is: 7\n",
      "The max number of existing CVEs in ecosystem Pypi is: 2\n"
     ]
    }
   ],
   "source": [
    "# calculate the highest number of CVEs for diverse ecosystems\n",
    "for eco, cve_len_list in eco_cves_dict.items():\n",
    "    max_num = max(cve_len_list)\n",
    "    print(\"The max number of existing CVEs in ecosystem {} is: {}\".format(eco, max_num))\n"
   ]
  },
  {
   "cell_type": "code",
   "execution_count": 15,
   "id": "0a859aa2-1ac7-4d42-808e-ab0870b4f932",
   "metadata": {},
   "outputs": [
    {
     "name": "stdout",
     "output_type": "stream",
     "text": [
      "The median number of existing CVEs in ecosystem Maven is: 1\n",
      "The median number of existing CVEs in ecosystem NPM is: 1.0\n",
      "The median number of existing CVEs in ecosystem Ruby is: 6.0\n",
      "The median number of existing CVEs in ecosystem Pypi is: 1\n"
     ]
    }
   ],
   "source": [
    "# calculate the median number of CVEs for diverse ecocystems\n",
    "for eco, cve_len_list in eco_cves_dict.items():\n",
    "    median_num = statistics.median(cve_len_list)\n",
    "    print(\"The median number of existing CVEs in ecosystem {} is: {}\".format(eco, median_num))\n"
   ]
  },
  {
   "cell_type": "code",
   "execution_count": 16,
   "id": "a8247500-dd06-43ab-abb2-427158f52faf",
   "metadata": {},
   "outputs": [
    {
     "name": "stdout",
     "output_type": "stream",
     "text": [
      "The min number of existing CVEs in ecosystem Maven is: 1\n",
      "The min number of existing CVEs in ecosystem NPM is: 1\n",
      "The min number of existing CVEs in ecosystem Ruby is: 1\n",
      "The min number of existing CVEs in ecosystem Pypi is: 1\n"
     ]
    }
   ],
   "source": [
    "# calculate the min number of CVEs for diverse ecocystems\n",
    "for eco, cve_len_list in eco_cves_dict.items():\n",
    "    min_num = min(cve_len_list)\n",
    "    print(\"The min number of existing CVEs in ecosystem {} is: {}\".format(eco, median_num))\n"
   ]
  },
  {
   "cell_type": "code",
   "execution_count": 1,
   "id": "3422c15c-673a-4c2f-8997-a8bfac4ee416",
   "metadata": {},
   "outputs": [],
   "source": [
    "# visualize the statistic data in one chart\n",
    "mean_cves = {\n",
    "\"Maven\":3, \"NPM\":1, \"Ruby\":6, \"Pypi\":1\n",
    "}\n",
    "\n",
    "max_cves = {\n",
    "\"Maven\": 176, \"NPM\": 8, \"Ruby\": 7, \"Pypi\": 2\n",
    "}\n",
    "\n",
    "med_cves= {\n",
    "\"Maven\":1, \"NPM\":1, \"Ruby\":6, \"Pypi\":1\n",
    "}\n",
    "\n",
    "min_cves = {\n",
    "    \"Maven\":1, \"NPM\":1, \"Ruby\":1, \"Pypi\":1\n",
    "\n",
    "}"
   ]
  },
  {
   "cell_type": "code",
   "execution_count": 7,
   "id": "d89d0240-9c04-450c-a67e-b4d24385633c",
   "metadata": {},
   "outputs": [
    {
     "data": {
      "image/png": "[encoded data removed]",
      "text/plain": [
       "<Figure size 1000x600 with 1 Axes>"
      ]
     },
     "metadata": {},
     "output_type": "display_data"
    }
   ],
   "source": [
    "import numpy as np\n",
    "import matplotlib.pyplot as plt\n",
    "\n",
    "# Prepare data for boxplot\n",
    "categories = list(mean_cves.keys())\n",
    "data = []\n",
    "\n",
    "# Estimate Q1 and Q3 based on mean and range (adjust as necessary)\n",
    "for cat in categories:\n",
    "    q1 = mean_cves[cat] - 1  # Example: Slightly below mean\n",
    "    q3 = mean_cves[cat] + 1  # Example: Slightly above mean\n",
    "    min_val = min_cves[cat]\n",
    "    max_val = max_cves[cat]\n",
    "\n",
    "    # Simulate data points between min and max with outliers\n",
    "    data.append([\n",
    "        min_val,  # Minimum\n",
    "        q1,       # First quartile (estimated)\n",
    "        med_cves[cat],  # Median\n",
    "        q3,       # Third quartile (estimated)\n",
    "        max_val   # Maximum\n",
    "    ])\n",
    "\n",
    "# Create boxplot\n",
    "fig, ax = plt.subplots(figsize=(10, 6))\n",
    "\n",
    "# Plot boxplot\n",
    "box = ax.boxplot(data, labels=categories, patch_artist=True, showmeans=False)\n",
    "\n",
    "# Set the face color of the boxes to gray\n",
    "for patch in box['boxes']:\n",
    "    patch.set_facecolor('lightgrey')\n",
    "\n",
    "# Set labels and title\n",
    "ax.set_ylabel('CVEs Count', fontsize=14, fontweight='bold')\n",
    "ax.set_title('CVEs Statistics by Package Manager', fontsize=16, fontweight='bold')\n",
    "\n",
    "# Increase the font size of the tick labels\n",
    "ax.tick_params(axis='both', labelsize=12)\n",
    "plt.tight_layout()\n",
    "plt.show()\n",
    "\n",
    "# Create a dataset for each package manager\n",
    "# for cat in categories:\n",
    "#     # We simulate the data as [min, q1, median, q3, max]\n",
    "#     # Since we don't have quartiles, we can estimate q1 and q3\n",
    "#     # We'll just use mean as a placeholder for q1 and max/2 as a placeholder for q3\n",
    "#     q1 = mean_cves[cat]  # Placeholder for Q1\n",
    "#     q3 = max_cves[cat] / 2 if max_cves[cat] > 0 else mean_cves[cat]  # Placeholder for Q3\n",
    "#     data.append([min_cves[cat], q1, med_cves[cat], q3, max_cves[cat]])\n",
    "\n",
    "# # Create boxplot\n",
    "# fig, ax = plt.subplots(figsize=(10, 6))\n",
    "\n",
    "# # Create the boxplot with gray boxes\n",
    "# box = ax.boxplot(data, labels=categories, patch_artist=True)\n",
    "\n",
    "\n",
    "# # Set the face color of the boxes to gray\n",
    "# for patch in box['boxes']:\n",
    "#     patch.set_facecolor('lightgrey')  # Set the box color to light gray\n",
    "\n",
    "# # Set labels and title\n",
    "# ax.set_ylabel('CVEs Count', fontsize=14, fontweight='bold')\n",
    "# # ax.set_title('CVEs Statistics by Package Manager', fontsize=16, fontweight='bold')\n",
    "\n",
    "# # Increase the font size of the tick labels\n",
    "# ax.tick_params(axis='both', labelsize=16) \n",
    "# plt.tight_layout()\n",
    "# plt.show()\n",
    "\n"
   ]
  },
  {
   "cell_type": "code",
   "execution_count": 19,
   "id": "35705e86-ceee-4da4-876c-93595b931f9f",
   "metadata": {},
   "outputs": [
    {
     "data": {
      "image/png": "[encoded data removed]",
      "text/plain": [
       "<Figure size 1000x600 with 1 Axes>"
      ]
     },
     "metadata": {},
     "output_type": "display_data"
    }
   ],
   "source": [
    "import matplotlib.pyplot as plt\n",
    "import numpy as np\n",
    "\n",
    "# Combine the data for plotting\n",
    "categories = list(mean_cves.keys())\n",
    "x_labels = ['Mean', 'Median', 'Max']\n",
    "data = {\n",
    "    'Maven': [mean_cves['Maven'], med_cves['Maven'], max_cves['Maven']],\n",
    "    'NPM': [mean_cves['NPM'], med_cves['NPM'], max_cves['NPM']],\n",
    "    'Ruby': [mean_cves['Ruby'], med_cves['Ruby'], max_cves['Ruby']],\n",
    "    'Pypi': [mean_cves['Pypi'], med_cves['Pypi'], max_cves['Pypi']]\n",
    "}\n",
    "\n",
    "# Create a bar chart\n",
    "bar_width = 0.2\n",
    "x = np.arange(len(x_labels))  # the label locations\n",
    "\n",
    "fig, ax = plt.subplots(figsize=(10, 6))\n",
    "\n",
    "# Plotting each set of data\n",
    "for i, (label, values) in enumerate(data.items()):\n",
    "    ax.bar(x + i * bar_width, values, bar_width, label=label)\n",
    "\n",
    "# Adding labels and title\n",
    "ax.set_xlabel('Statistics')\n",
    "ax.set_ylabel('Numbers')\n",
    "ax.set_title('CVEs Statistics by Type')\n",
    "ax.set_xticks(x + bar_width * 1.5)  # Centering the x ticks\n",
    "ax.set_xticklabels(x_labels)\n",
    "ax.legend(title='Package Managers')\n",
    "\n",
    "# Adding bar labels\n",
    "def add_labels(bars):\n",
    "    for bar in bars:\n",
    "        height = bar.get_height()\n",
    "        ax.annotate('{}'.format(height),\n",
    "                    xy=(bar.get_x() + bar.get_width() / 2, height),\n",
    "                    xytext=(0, 3),  # 3 points vertical offset\n",
    "                    textcoords=\"offset points\",\n",
    "                    ha='center', va='bottom')\n",
    "\n",
    "# Add labels for each set of bars\n",
    "for i in range(len(data)):\n",
    "    add_labels(ax.patches[i * len(x_labels):(i + 1) * len(x_labels)])\n",
    "\n",
    "plt.tight_layout()\n",
    "plt.show()"
   ]
  },
  {
   "cell_type": "markdown",
   "id": "53d8b8d7-f41c-460f-ac01-f16f534b75ec",
   "metadata": {},
   "source": [
    "# check cves families with cwes\n",
    "\n",
    "- one cve can potentially map to multiple cwes, cwe can be used to identify cves belong to same families\n",
    "\n",
    "- we explore the following questions:\n",
    "\n",
    "  - how many groups / families exist in this dataset\n",
    "  - whether the same group of cves tend to infect similar software or diverse software, what is the relationships between specific familiy of cves and clusters of packages?\n",
    "  - whether same cve can infect different packages\n"
   ]
  },
  {
   "cell_type": "code",
   "execution_count": 20,
   "id": "4e83d1db-b76f-4d69-9095-94a8bb323096",
   "metadata": {},
   "outputs": [],
   "source": [
    "# cve as the key, infected packages / releases as the values\n",
    "cve_pack_dict = {}\n",
    "\n",
    "# cwe as the key, the packages / releases share the same cwe as the values\n",
    "cwe_pack_dict = {}\n",
    "\n",
    "# cwe as the key, cves as the values\n",
    "cwe_cve_dict = {}"
   ]
  },
  {
   "cell_type": "code",
   "execution_count": 21,
   "id": "039a48eb-b1da-48bd-a056-f96ad0e2b3f6",
   "metadata": {},
   "outputs": [],
   "source": [
    "import ast\n",
    "\n",
    "def parse_cwe_ids(data_dict):\n",
    "    # Try loading the cwe_ids as a list\n",
    "    try:\n",
    "        cwe_ids_str = data_dict[\"cwe_ids\"]\n",
    "        if isinstance(cwe_ids_str, str) and cwe_ids_str != \"UNKNOWN\":\n",
    "            cwe_ids_str = cwe_ids_str.replace('CWE-', '\"CWE-')\n",
    "            cwe_ids_str = cwe_ids_str.replace(',', '\",')\n",
    "            cwe_ids_str = cwe_ids_str.replace(']', '\"]')\n",
    "            # Now safely parse the string as a list\n",
    "            data_dict['cwe_ids'] = ast.literal_eval(cwe_ids_str)\n",
    "            \n",
    "    except (ValueError, SyntaxError):\n",
    "        # If it fails, print an error (optional) or handle the error\n",
    "        data_dict['cwe_ids'] = []  # Set to empty list if there's an error\n",
    "\n",
    "    return data_dict\n"
   ]
  },
  {
   "cell_type": "code",
   "execution_count": 22,
   "id": "fdc91338-479e-457d-bd82-f981840f2308",
   "metadata": {},
   "outputs": [],
   "source": [
    "for pack, cve_info_list in cve_json.items():\n",
    "    for cve_dict in cve_info_list:\n",
    "        cve_name = cve_dict[\"name\"]\n",
    "        # record cve dict information\n",
    "        if cve_name not in cve_pack_dict.keys():\n",
    "            cve_pack_dict[cve_name] = []\n",
    "            cve_pack_dict[cve_name].append(pack)\n",
    "        else:\n",
    "            cve_pack_dict[cve_name].append(pack)\n",
    "        # record the cwe information\n",
    "        cve_dict = parse_cwe_ids(cve_dict)\n",
    "        cwe_name_list = cve_dict[\"cwe_ids\"]\n",
    "        \n",
    "        for cwe in cwe_name_list:\n",
    "            if cwe not in cwe_pack_dict.keys():\n",
    "                cwe_pack_dict[cwe] = []\n",
    "                cwe_pack_dict[cwe].append(pack)\n",
    "            else:\n",
    "                cwe_pack_dict[cwe].append(pack)\n",
    "            # record the cwe and cve info\n",
    "            if cwe not in cwe_cve_dict.keys():\n",
    "                cwe_cve_dict[cwe] = []\n",
    "                cwe_cve_dict[cwe].append(cve_name)\n",
    "            else:\n",
    "                cwe_cve_dict[cwe].append(cve_name)\n",
    "                "
   ]
  },
  {
   "cell_type": "code",
   "execution_count": 23,
   "id": "88a78c7e-19b2-4cf9-82b4-00f0a25f9ceb",
   "metadata": {
    "scrolled": true
   },
   "outputs": [
    {
     "name": "stdout",
     "output_type": "stream",
     "text": [
      "4401\n",
      "['CVE-2015-8103', 'BIT-elasticsearch-2023-46674', 'CVE-2015-8031', 'CVE-2022-29546', 'CVE-2023-34055', 'CVE-2023-32070', 'CVE-2020-1717', 'CVE-2020-1718', 'CVE-2023-6927', 'CVE-2020-1725']\n",
      "[292, 275, 344, 38, 204, 1691, 104, 104, 164, 122]\n"
     ]
    }
   ],
   "source": [
    "print(len(cve_pack_dict.keys()))\n",
    "print(list(cve_pack_dict.keys())[:10])\n",
    "print([len(value) for value in cve_pack_dict.values()][:10])"
   ]
  },
  {
   "cell_type": "code",
   "execution_count": 24,
   "id": "afe998a4-3afa-4e9e-ac75-1c725fc6ec75",
   "metadata": {},
   "outputs": [
    {
     "name": "stdout",
     "output_type": "stream",
     "text": [
      "251\n",
      "['CWE-502', 'CWE-611', 'CWE-400', 'CWE-79', 'CWE-83', 'CWE-209', 'CWE-287', 'CWE-601', 'CWE-668', 'CWE-863', 'CWE-304', 'CWE-488', 'CWE-613', 'CWE-116', 'CWE-307', 'CWE-522', 'CWE-770', 'CWE-177', 'CWE-22', 'CWE-183', 'CWE-732', 'CWE-295', 'CWE-297', 'CWE-352', 'CWE-377', 'CWE-379', 'CWE-59', 'CWE-15', 'CWE-610', 'CWE-664', 'CWE-459', 'CWE-200', 'CWE-214', 'CWE-24', 'CWE-835', 'CWE-362', 'CWE-401', 'CWE-674', 'CWE-917', 'CWE-918', 'CWE-754', 'CWE-149', 'CWE-444', 'CWE-20', 'CWE-285', 'CWE-532', 'CWE-1188', 'CWE-119', 'CWE-639', 'CWE-74', 'CWE-94', 'CWE-526', 'CWE-270', 'CWE-345', 'CWE-862', 'CWE-248', 'CWE-89', 'CWE-148', 'CWE-279', 'CWE-434', 'CWE-384', 'CWE-284', 'CWE-670', 'CWE-269', 'CWE-81', 'CWE-117', 'CWE-640', 'CWE-80', 'CWE-288', 'CWE-837', 'CWE-75', 'CWE-346', 'CWE-625', 'CWE-290', 'CWE-347', 'CWE-358', 'CWE-90', 'CWE-922', 'CWE-306', 'CWE-1333', 'CWE-319', 'CWE-178', 'CWE-327', 'CWE-155', 'CWE-150', 'CWE-1390', 'CWE-77', 'CWE-330', 'CWE-338', 'CWE-40', 'CWE-311', 'CWE-697', 'CWE-276', 'CWE-667', 'CWE-256', 'CWE-617', 'CWE-440', 'CWE-913', 'CWE-203', 'CWE-213', 'CWE-190', 'CWE-551', 'CWE-755', 'CWE-378', 'CWE-476', 'CWE-331', 'CWE-552', 'CWE-281', 'CWE-35', 'CWE-494', 'CWE-113', 'CWE-789', 'CWE-665', 'CWE-95', 'CWE-367', 'CWE-772', 'CWE-289', 'CWE-260', 'CWE-693', 'CWE-324', 'CWE-602', 'CWE-201', 'CWE-841', 'CWE-231', 'CWE-547', 'CWE-798', 'CWE-250', 'CWE-645', 'CWE-1021', 'CWE-267', 'CWE-341', 'CWE-916', 'CWE-470', 'CWE-1284', 'CWE-280', 'CWE-300', 'CWE-329', 'CWE-696', 'CWE-130', 'CWE-326', 'CWE-799', 'CWE-6', 'CWE-226', 'CWE-78', 'CWE-121', 'CWE-787', 'CWE-112', 'CWE-776', 'CWE-91', 'CWE-208', 'CWE-173', 'CWE-42', 'CWE-425', 'CWE-184', 'CWE-406', 'CWE-435', 'CWE-323', 'CWE-240', 'CWE-410', 'CWE-567', 'CWE-350', 'CWE-195', 'CWE-681', 'CWE-252', 'CWE-354', 'CWE-829', 'CWE-1321', 'CWE-644', 'CWE-322', 'CWE-88', 'CWE-120', 'CWE-131', 'CWE-277', 'CWE-843', 'CWE-416', 'CWE-29', 'CWE-125', 'CWE-385', 'CWE-328', 'CWE-834', 'CWE-204', 'CWE-23', 'CWE-704', 'CWE-523', 'CWE-86', 'CWE-402', 'CWE-441', 'CWE-669', 'U', 'N', 'K', 'O', 'W', 'CWE-193', 'CWE-73', 'CWE-471', 'CWE-96', 'CWE-1336', 'CWE-27', 'CWE-1295', 'CWE-426', 'CWE-312', 'CWE-807', 'CWE-538', 'CWE-915', 'CWE-99', 'CWE-1395', 'CWE-407', 'CWE-212', 'CWE-838', 'CWE-93', 'CWE-340', 'CWE-122', 'CWE-706', 'CWE-266', 'CWE-436', 'CWE-549', 'CWE-466', 'CWE-230', 'CWE-64', 'CWE-172', 'CWE-294', 'CWE-404', 'CWE-273', 'CWE-134', 'CWE-662', 'CWE-820', 'CWE-940', 'CWE-927', 'CWE-672', 'CWE-675', 'CWE-325', 'CWE-62', 'CWE-690', 'CWE-185', 'CWE-1068', 'CWE-501', 'CWE-653', 'CWE-521', 'CWE-1024', 'CWE-318', 'CWE-408', 'CWE-349', 'CWE-1259', 'CWE-176', 'CWE-1310', 'CWE-278', 'CWE-305', 'CWE-303', 'CWE-87', 'CWE-612']\n"
     ]
    }
   ],
   "source": [
    "print(len(cwe_pack_dict.keys()))\n",
    "print(list(cwe_pack_dict.keys()))"
   ]
  },
  {
   "cell_type": "markdown",
   "id": "59ed44ea-c681-4ffc-9a9f-e83bd1321502",
   "metadata": {},
   "source": [
    "### Analyze cve_pack_dict\n",
    "Check the packages with most cves"
   ]
  },
  {
   "cell_type": "code",
   "execution_count": 34,
   "id": "6aa6a10e-d52f-44a5-b002-c8475082b7f3",
   "metadata": {},
   "outputs": [
    {
     "name": "stdout",
     "output_type": "stream",
     "text": [
      "Total unique packages: 97054\n",
      "Top 50 packages by number of CVEs: [('org.jenkins-ci.main:jenkins-core:1.409.2', 176), ('org.jenkins-ci.main:jenkins-core:1.409.3', 176), ('org.jenkins-ci.main:jenkins-core:1.409.1', 176), ('org.jenkins-ci.main:jenkins-core:1.396', 176), ('org.jenkins-ci.main:jenkins-core:1.398', 176), ('org.jenkins-ci.main:jenkins-core:1.397', 176)]\n"
     ]
    }
   ],
   "source": [
    "from collections import Counter\n",
    "\n",
    "# Assume your dictionary is called cve_dict\n",
    "package_counter = Counter([pkg for pkg_list in cve_pack_dict.values() for pkg in pkg_list])\n",
    "\n",
    "# Get basic statistics\n",
    "total_unique_packages = len(package_counter)\n",
    "most_common_packages = package_counter.most_common(6)\n",
    "cve_per_package = {pkg: count for pkg, count in package_counter.items()}\n",
    "\n",
    "print(f\"Total unique packages: {total_unique_packages}\")\n",
    "print(f\"Top 50 packages by number of CVEs: {most_common_packages}\")"
   ]
  },
  {
   "cell_type": "code",
   "execution_count": 37,
   "id": "d9723266-7ee8-4007-a36f-0435756791e2",
   "metadata": {},
   "outputs": [
    {
     "data": {
      "image/png": "[encoded data removed]",
      "text/plain": [
       "<Figure size 1000x600 with 1 Axes>"
      ]
     },
     "metadata": {},
     "output_type": "display_data"
    }
   ],
   "source": [
    "# Step 1: Extract the package names and the number of CVEs\n",
    "packages = [\":\".join(pkg.split(\":\")[-2:]) for pkg, count in most_common_packages]\n",
    "counts = [count for pkg, count in most_common_packages]\n",
    "\n",
    "# Step 2: Create a bar plot with package names on the x-axis and CVE counts on the y-axis\n",
    "plt.figure(figsize=(10, 6))  # Adjust the size of the plot\n",
    "plt.barh(packages, counts, color='skyblue')  # Use barh() to create a horizontal bar plot\n",
    "\n",
    "# Step 3: Add titles and labels\n",
    "plt.xlabel(\"Number of CVEs\",fontsize=14)\n",
    "plt.ylabel(\"Package Names\",fontsize=14)\n",
    "# plt.title(\"Top 10 Releases by Number of CVEs\")\n",
    "# Increase font size for the y-axis tick labels (package names)\n",
    "plt.yticks(fontsize=14)\n",
    "plt.xticks(fontsize=14)\n",
    "# Display the values on the bars\n",
    "for i, v in enumerate(counts):\n",
    "    plt.text(v + 0.5, i, str(v), color='blue', va='center',fontsize=14)\n",
    "\n",
    "# Step 4: Show the plot\n",
    "plt.show()"
   ]
  },
  {
   "cell_type": "markdown",
   "id": "b2fe7b50-817e-4471-af38-4bbc99b76e02",
   "metadata": {},
   "source": [
    "### Analyze the distribution of number of packages per CVE"
   ]
  },
  {
   "cell_type": "code",
   "execution_count": 27,
   "id": "683904b5-41fa-4ac3-b3f7-04d14b01bb98",
   "metadata": {},
   "outputs": [
    {
     "name": "stdout",
     "output_type": "stream",
     "text": [
      "                            CVE  Package_Count\n",
      "0                 CVE-2015-8103            292\n",
      "1  BIT-elasticsearch-2023-46674            275\n",
      "2                 CVE-2015-8031            344\n",
      "3                CVE-2022-29546             38\n",
      "4                CVE-2023-34055            204\n"
     ]
    }
   ],
   "source": [
    "# Assuming your dictionary is called `cve_dict`\n",
    "cve_package_lengths = {cve: len(packages) for cve, packages in cve_pack_dict.items()}\n",
    "\n",
    "# Optionally, convert it to a Pandas DataFrame for easier analysis\n",
    "import pandas as pd\n",
    "\n",
    "cve_df = pd.DataFrame(list(cve_package_lengths.items()), columns=['CVE', 'Package_Count'])\n",
    "\n",
    "# Display the DataFrame\n",
    "print(cve_df.head())"
   ]
  },
  {
   "cell_type": "code",
   "execution_count": 31,
   "id": "ffa0551e-b269-4d22-9740-9a47f4aa6e93",
   "metadata": {},
   "outputs": [
    {
     "name": "stdout",
     "output_type": "stream",
     "text": [
      "Top 10 CVEs by number of packages:\n",
      "1. UNKNOWN - 6377 packages\n",
      "2. CVE-2023-6837 - 3916 packages\n",
      "3. CVE-2023-6835 - 1817 packages\n",
      "4. CVE-2024-45294 - 1739 packages\n",
      "5. CVE-2023-32070 - 1691 packages\n",
      "6. CVE-2022-31159 - 1420 packages\n",
      "7. CVE-2023-24057 - 1138 packages\n",
      "8. CVE-2023-28465 - 1133 packages\n",
      "9. BIT-jenkins-2024-43044 - 1104 packages\n",
      "10. BIT-jenkins-2024-43045 - 893 packages\n"
     ]
    },
    {
     "data": {
      "image/png": "[encoded data removed]",
      "text/plain": [
       "<Figure size 640x480 with 1 Axes>"
      ]
     },
     "metadata": {},
     "output_type": "display_data"
    }
   ],
   "source": [
    "import numpy as np\n",
    "import pandas as pd\n",
    "import seaborn as sns\n",
    "import matplotlib.pyplot as plt\n",
    "from itertools import combinations\n",
    "import matplotlib.pyplot as plt\n",
    "\n",
    "# Assume your dictionary is called cve_dict\n",
    "\n",
    "# Step 1: Calculate the length of each list of packages for each CVE\n",
    "cve_package_lengths = {cve: len(packages) for cve, packages in cve_pack_dict.items()}\n",
    "\n",
    "# Step 2: Sort the dictionary by the length of the package lists (descending order)\n",
    "sorted_cve_lengths = sorted(cve_package_lengths.items(), key=lambda x: x[1], reverse=True)\n",
    "    \n",
    "# Step 3: Get the top 100 CVEs based on the length of their package lists\n",
    "top_100_cves = sorted_cve_lengths[:100]\n",
    "\n",
    "print(\"Top 10 CVEs by number of packages:\")\n",
    "for rank, (cve, length) in enumerate(top_100_cves[:10], start=1):\n",
    "    print(f\"{rank}. {cve} - {length} packages\")\n",
    "\n",
    "# Step 4: Visualize the distribution of the number of packages for the top 100 CVEs\n",
    "top_100_lengths = [length for _, length in top_100_cves]\n",
    "\n",
    "plt.bar(range(1, 101), top_100_lengths)\n",
    "# plt.title(\"Distribution of Number of Packages per CVE (Top 100 CVEs)\")\n",
    "plt.xlabel(\"CVE Rank (Top 100)\",fontsize=14)\n",
    "plt.ylabel(\"Number of Packages\",fontsize=14)\n",
    "plt.show()"
   ]
  },
  {
   "cell_type": "code",
   "execution_count": 29,
   "id": "e132f08b-cfe8-4858-bc98-ab442c298e8e",
   "metadata": {},
   "outputs": [
    {
     "name": "stdout",
     "output_type": "stream",
     "text": [
      "1\n",
      "Percentage of CVE pairs with similarity score above 0.1: 0.32%\n",
      "Percentage of CVE pairs with similarity score above 0.2: 0.29%\n",
      "Percentage of CVE pairs with similarity score above 0.30000000000000004: 0.27%\n"
     ]
    },
    {
     "ename": "KeyboardInterrupt",
     "evalue": "",
     "output_type": "error",
     "traceback": [
      "\u001b[0;31m---------------------------------------------------------------------------\u001b[0m",
      "\u001b[0;31mKeyboardInterrupt\u001b[0m                         Traceback (most recent call last)",
      "Cell \u001b[0;32mIn[29], line 67\u001b[0m\n\u001b[1;32m     64\u001b[0m     plt\u001b[38;5;241m.\u001b[39mshow()\n\u001b[1;32m     66\u001b[0m \u001b[38;5;66;03m# Example usage (with your existing cve_pack_dict dictionary):\u001b[39;00m\n\u001b[0;32m---> 67\u001b[0m \u001b[43mvisualize_similarity_thresholds\u001b[49m\u001b[43m(\u001b[49m\u001b[43mcve_pack_dict\u001b[49m\u001b[43m)\u001b[49m\n",
      "Cell \u001b[0;32mIn[29], line 53\u001b[0m, in \u001b[0;36mvisualize_similarity_thresholds\u001b[0;34m(cve_pack_dict)\u001b[0m\n\u001b[1;32m     51\u001b[0m \u001b[38;5;66;03m# Calculate percentages for each threshold\u001b[39;00m\n\u001b[1;32m     52\u001b[0m \u001b[38;5;28;01mfor\u001b[39;00m threshold \u001b[38;5;129;01min\u001b[39;00m thresholds:\n\u001b[0;32m---> 53\u001b[0m     percentage \u001b[38;5;241m=\u001b[39m \u001b[43mcve_similarity_analysis\u001b[49m\u001b[43m(\u001b[49m\u001b[43mcve_pack_dict\u001b[49m\u001b[43m,\u001b[49m\u001b[43m \u001b[49m\u001b[43mthreshold\u001b[49m\u001b[43m)\u001b[49m\n\u001b[1;32m     54\u001b[0m     percentages\u001b[38;5;241m.\u001b[39mappend(percentage)\n\u001b[1;32m     56\u001b[0m \u001b[38;5;66;03m# Plot the results\u001b[39;00m\n",
      "Cell \u001b[0;32mIn[29], line 25\u001b[0m, in \u001b[0;36mcve_similarity_analysis\u001b[0;34m(cve_pack_dict, threshold)\u001b[0m\n\u001b[1;32m     23\u001b[0m \u001b[38;5;28;01mfor\u001b[39;00m j, cve2 \u001b[38;5;129;01min\u001b[39;00m \u001b[38;5;28menumerate\u001b[39m(cves):\n\u001b[1;32m     24\u001b[0m     \u001b[38;5;28;01mif\u001b[39;00m i \u001b[38;5;241m<\u001b[39m j:  \u001b[38;5;66;03m# Only calculate for pairs\u001b[39;00m\n\u001b[0;32m---> 25\u001b[0m         similarity \u001b[38;5;241m=\u001b[39m \u001b[43mjaccard_similarity\u001b[49m\u001b[43m(\u001b[49m\u001b[43mcve1\u001b[49m\u001b[43m,\u001b[49m\u001b[43m \u001b[49m\u001b[43mcve2\u001b[49m\u001b[43m,\u001b[49m\u001b[43m \u001b[49m\u001b[43mcve_pack_dict\u001b[49m\u001b[43m)\u001b[49m\n\u001b[1;32m     26\u001b[0m         similarity_matrix[i, j] \u001b[38;5;241m=\u001b[39m similarity\n\u001b[1;32m     27\u001b[0m         similarity_matrix[j, i] \u001b[38;5;241m=\u001b[39m similarity  \u001b[38;5;66;03m# Symmetric matrix\u001b[39;00m\n",
      "\u001b[0;31mKeyboardInterrupt\u001b[0m: "
     ]
    }
   ],
   "source": [
    "import numpy as np\n",
    "import pandas as pd\n",
    "import seaborn as sns\n",
    "import matplotlib.pyplot as plt\n",
    "from itertools import combinations\n",
    "\n",
    "# Example: Calculate Jaccard similarity between CVEs\n",
    "def jaccard_similarity(cve1, cve2, cve_dict):\n",
    "    set1, set2 = set(cve_dict[cve1]), set(cve_dict[cve2])\n",
    "    return len(set1 & set2) / len(set1 | set2)\n",
    "\n",
    "print(len(cves))\n",
    "# Create a list of CVEs\n",
    "# Function to compute percentage of CVE pairs above a threshold\n",
    "def cve_similarity_analysis(cve_pack_dict, threshold):\n",
    "    cves = list(cve_pack_dict.keys())\n",
    "\n",
    "    # Initialize a similarity matrix\n",
    "    similarity_matrix = np.zeros((len(cves), len(cves)))\n",
    "\n",
    "    # Calculate similarities and fill the matrix\n",
    "    for i, cve1 in enumerate(cves):\n",
    "        for j, cve2 in enumerate(cves):\n",
    "            if i < j:  # Only calculate for pairs\n",
    "                similarity = jaccard_similarity(cve1, cve2, cve_pack_dict)\n",
    "                similarity_matrix[i, j] = similarity\n",
    "                similarity_matrix[j, i] = similarity  # Symmetric matrix\n",
    "\n",
    "    # Create a DataFrame from the similarity matrix\n",
    "    similarity_df = pd.DataFrame(similarity_matrix, index=cves, columns=cves)\n",
    "\n",
    "    # Filter based on the threshold\n",
    "    filtered_df = similarity_df[similarity_df > threshold]\n",
    "\n",
    "    # Calculate percentage of pairs above the threshold\n",
    "    total_pairs = (len(cves) * (len(cves) - 1)) // 2  # Total number of possible pairs\n",
    "    non_zero_pairs = (filtered_df > 0).sum().sum() // 2  # Count non-zero pairs\n",
    "    percentage_above_threshold = (non_zero_pairs / total_pairs) * 100\n",
    "\n",
    "    # Print the result\n",
    "    print(f\"Percentage of CVE pairs with similarity score above {threshold}: {percentage_above_threshold:.2f}%\")\n",
    "\n",
    "    # Return the percentage for further analysis\n",
    "    return percentage_above_threshold\n",
    "\n",
    "# Function to visualize the similarity thresholds\n",
    "def visualize_similarity_thresholds(cve_pack_dict):\n",
    "    thresholds = np.arange(0.1, 1.0, 0.1)  # Thresholds from 0.1 to 0.9\n",
    "    percentages = []\n",
    "\n",
    "    # Calculate percentages for each threshold\n",
    "    for threshold in thresholds:\n",
    "        percentage = cve_similarity_analysis(cve_pack_dict, threshold)\n",
    "        percentages.append(percentage)\n",
    "\n",
    "    # Plot the results\n",
    "    plt.figure(figsize=(10, 6))\n",
    "    sns.lineplot(x=thresholds, y=percentages, marker='o', color='b')\n",
    "    plt.title('Percentage of CVE Pairs Above Similarity Threshold')\n",
    "    plt.xlabel('Threshold')\n",
    "    plt.ylabel('Percentage of CVE Pairs')\n",
    "    plt.xticks(thresholds)\n",
    "    plt.grid(True)\n",
    "    plt.show()\n",
    "\n",
    "# Example usage (with your existing cve_pack_dict dictionary):\n",
    "visualize_similarity_thresholds(cve_pack_dict)"
   ]
  },
  {
   "cell_type": "markdown",
   "id": "930a8afe-0647-4bd6-b58e-42ee8cfc7d1d",
   "metadata": {},
   "source": [
    "### Analyse cwe_pack_dict"
   ]
  },
  {
   "cell_type": "code",
   "execution_count": null,
   "id": "86d97da5-53e1-455a-8e9c-fda03b71672b",
   "metadata": {},
   "outputs": [],
   "source": [
    "print(list(cwe_pack_dict.keys()))"
   ]
  },
  {
   "cell_type": "code",
   "execution_count": null,
   "id": "cc552340-f13b-4d29-9db9-29a88f565fa8",
   "metadata": {},
   "outputs": [],
   "source": [
    "from collections import Counter\n",
    "\n",
    "# Assume your dictionary is called cve_dict\n",
    "package_counter = Counter([pkg for pkg_list in cwe_pack_dict.values() for pkg in pkg_list])\n",
    "\n",
    "# Get basic statistics\n",
    "total_unique_packages = len(package_counter)\n",
    "most_common_packages = package_counter.most_common(20)\n",
    "cwe_per_package = {pkg: count for pkg, count in package_counter.items()}\n",
    "\n",
    "print(f\"Total unique packages: {total_unique_packages}\")\n",
    "print(f\"Top 50 packages by number of CWEs: {most_common_packages}\")"
   ]
  },
  {
   "cell_type": "code",
   "execution_count": null,
   "id": "0a15eb9c-88a6-42e2-b529-aa48964ab7aa",
   "metadata": {},
   "outputs": [],
   "source": [
    "most_common_packages = sorted(most_common_packages, key=lambda x: x[1], reverse=False)\n",
    "\n",
    "# Step 1: Extract the package names and the number of CVEs\n",
    "packages = [\":\".join(pkg.split(\":\")[-2:]) for pkg, count in most_common_packages]\n",
    "counts = [count for pkg, count in most_common_packages]\n",
    "\n",
    "# Step 2: Create a bar plot with package names on the x-axis and CVE counts on the y-axis\n",
    "plt.figure(figsize=(10, 6))  # Adjust the size of the plot\n",
    "plt.barh(packages, counts, color='skyblue')  # Use barh() to create a horizontal bar plot\n",
    "\n",
    "# Step 3: Add titles and labels\n",
    "plt.xlabel(\"Number of CWEs\")\n",
    "plt.ylabel(\"Package Names\")\n",
    "plt.title(\"Top 20 Packages by Number of CWEs\")\n",
    "\n",
    "# Display the values on the bars\n",
    "for i, v in enumerate(counts):\n",
    "    plt.text(v + 0.5, i, str(v), color='blue', va='center')\n",
    "\n",
    "# Step 4: Show the plot\n",
    "plt.show()"
   ]
  },
  {
   "cell_type": "markdown",
   "id": "5f2a61af-7679-4ef3-95af-ed29dfb07fc8",
   "metadata": {},
   "source": [
    "#### Analyze the distribution of number of packages per CWE"
   ]
  },
  {
   "cell_type": "code",
   "execution_count": null,
   "id": "e0ad867c-3da1-4663-9d91-b854fb2d36b1",
   "metadata": {},
   "outputs": [],
   "source": [
    "# Assuming your dictionary is called `cve_dict`\n",
    "cwe_package_lengths = {cwe: len(packages) for cwe, packages in cwe_pack_dict.items()}\n",
    "print(len(cwe_package_lengths.keys()))\n",
    "print(list(cwe_package_lengths.keys())[0])\n",
    "print(list(cwe_package_lengths.keys()))\n",
    "# Optionally, convert it to a Pandas DataFrame for easier analysis\n",
    "import pandas as pd\n",
    "\n",
    "cwe_df = pd.DataFrame(list(cwe_package_lengths.items()), columns=['CWE', 'Package_Count'])\n",
    "\n",
    "# Display the DataFrame\n",
    "print(cwe_df.head())"
   ]
  },
  {
   "cell_type": "code",
   "execution_count": null,
   "id": "452780b8-ac31-4535-be36-96f3f27d3ec8",
   "metadata": {},
   "outputs": [],
   "source": [
    "import numpy as np\n",
    "import pandas as pd\n",
    "import seaborn as sns\n",
    "import matplotlib.pyplot as plt\n",
    "from itertools import combinations\n",
    "import matplotlib.pyplot as plt\n",
    "\n",
    "# Assume your dictionary is called cve_dict\n",
    "\n",
    "# Step 1: Calculate the length of each list of packages for each CVE\n",
    "cwe_package_lengths = {cwe: len(packages) for cwe, packages in cwe_pack_dict.items()}\n",
    "\n",
    "# Step 2: Sort the dictionary by the length of the package lists (descending order)\n",
    "sorted_cwe_lengths = sorted(cwe_package_lengths.items(), key=lambda x: x[1], reverse=True)\n",
    "\n",
    "# Step 3: Get the top 100 CVEs based on the length of their package lists\n",
    "top_100_cwes = sorted_cwe_lengths[:100]\n",
    "\n",
    "# Step 4: Visualize the distribution of the number of packages for the top 100 CVEs\n",
    "top_100_lengths = [length for _, length in top_100_cwes]\n",
    "\n",
    "plt.bar(range(1, 101), top_100_lengths)\n",
    "plt.title(\"Distribution of Number of Packages per CWE (Top 100 CWEs)\")\n",
    "plt.xlabel(\"CWE Rank (Top 100)\")\n",
    "plt.ylabel(\"Number of Packages\")\n",
    "plt.show()"
   ]
  },
  {
   "cell_type": "code",
   "execution_count": null,
   "id": "4b1f64ae-6114-4b83-b11e-6e8edfaa29c9",
   "metadata": {},
   "outputs": [],
   "source": [
    "import numpy as np\n",
    "import pandas as pd\n",
    "import seaborn as sns\n",
    "import matplotlib.pyplot as plt\n",
    "from itertools import combinations\n",
    "\n",
    "visualize_similarity_thresholds(cwe_pack_dict)"
   ]
  },
  {
   "cell_type": "markdown",
   "id": "8a3777a5-3a93-43de-8682-809ceb825023",
   "metadata": {},
   "source": [
    "## Analyze cwe_cve_dict"
   ]
  },
  {
   "cell_type": "code",
   "execution_count": null,
   "id": "171d52c8-4ef7-47d3-8f9a-23e018ed6b27",
   "metadata": {},
   "outputs": [],
   "source": [
    "from collections import Counter\n",
    "\n",
    "cve_counter = Counter([cve for cve_list in cwe_cve_dict.values() for cve in cve_list])\n",
    "\n",
    "# Get basic statistics\n",
    "total_unique_cves = len(cve_counter)\n",
    "most_common_cves = cve_counter.most_common(21)[1:]\n",
    "cwv_per_cve = {cve: count for cve, count in cve_counter.items()}\n",
    "\n",
    "print(f\"Total unique cves: {total_unique_cves}\")\n",
    "print(f\"Top 50 cves by number of CWEs: {most_common_cves}\")"
   ]
  },
  {
   "cell_type": "code",
   "execution_count": null,
   "id": "d7df5d85-0657-4fdb-81b6-0ae67cdcc837",
   "metadata": {},
   "outputs": [],
   "source": [
    "most_common_cves = sorted(most_common_cves, key=lambda x: x[1], reverse=False)\n",
    "\n",
    "cves = [cve for cve, count in most_common_cves]\n",
    "counts = [count for cve, count in most_common_cves]\n",
    "\n",
    "plt.figure(figsize=(10, 6))  # Adjust the size of the plot\n",
    "plt.barh(cves, counts, color='skyblue')  # Use barh() to create a horizontal bar plot\n",
    "\n",
    "# Step 3: Add titles and labels\n",
    "plt.xlabel(\"Number of CWEs\")\n",
    "plt.ylabel(\"CWE Names\")\n",
    "plt.title(\"Top 20 CVEs by Number of CWEs\")\n",
    "\n",
    "# Display the values on the bars\n",
    "for i, v in enumerate(counts):\n",
    "    plt.text(v + 0.5, i, str(v), color='blue', va='center')\n",
    "\n",
    "# Step 4: Show the plot\n",
    "plt.show()"
   ]
  },
  {
   "cell_type": "code",
   "execution_count": null,
   "id": "5da914cf-6c0d-4bb2-89ba-4584f10e378f",
   "metadata": {},
   "outputs": [],
   "source": [
    "import numpy as np\n",
    "import pandas as pd\n",
    "import seaborn as sns\n",
    "import matplotlib.pyplot as plt\n",
    "from itertools import combinations\n",
    "import matplotlib.pyplot as plt\n",
    "\n",
    "# Assume your dictionary is called cve_dict\n",
    "\n",
    "cwe_cve_lengths = {cwe: len(cves) for cwe, cves in cwe_cve_dict.items()}\n",
    "\n",
    "sorted_cwe_lengths = sorted(cwe_cve_lengths.items(), key=lambda x: x[1], reverse=True)\n",
    "\n",
    "# Step 3: Get the top 100 CVEs based on the length of their package lists\n",
    "top_100_cwes = sorted_cwe_lengths[:100]\n",
    "\n",
    "# Step 4: Visualize the distribution of the number of packages for the top 100 CVEs\n",
    "top_100_lengths = [length for _, length in top_100_cwes]\n",
    "\n",
    "plt.bar(range(1, 101), top_100_lengths)\n",
    "plt.title(\"Distribution of Number of CVEs per CWE (Top 100 CWEs)\")\n",
    "plt.xlabel(\"CWE Rank (Top 100)\")\n",
    "plt.ylabel(\"Number of Packages\")\n",
    "plt.show()"
   ]
  },
  {
   "cell_type": "code",
   "execution_count": null,
   "id": "b7a5f533-1524-4180-a90a-be605ba9f7c8",
   "metadata": {},
   "outputs": [],
   "source": [
    "import numpy as np\n",
    "import pandas as pd\n",
    "import seaborn as sns\n",
    "import matplotlib.pyplot as plt\n",
    "from itertools import combinations\n",
    "\n",
    "visualize_similarity_thresholds(cwe_cve_dict)"
   ]
  },
  {
   "cell_type": "code",
   "execution_count": null,
   "id": "c4ae11d2-bec3-43cb-af4d-3f8ba2e21976",
   "metadata": {},
   "outputs": [],
   "source": []
  },
  {
   "cell_type": "markdown",
   "id": "c595fa4b-c466-426e-bfe5-6c313b670aeb",
   "metadata": {},
   "source": [
    "### Visualize three lines in one table"
   ]
  },
  {
   "cell_type": "code",
   "execution_count": 30,
   "id": "629e4392-0073-4c00-8c89-edd86d63329b",
   "metadata": {},
   "outputs": [
    {
     "data": {
      "image/png": "[encoded data removed]",
      "text/plain": [
       "<Figure size 1000x600 with 1 Axes>"
      ]
     },
     "metadata": {},
     "output_type": "display_data"
    }
   ],
   "source": [
    "import matplotlib.pyplot as plt\n",
    "import seaborn as sns\n",
    "\n",
    "\n",
    "# Data for CVE pairs, CWE pairs, and CWE-CVE pairs\n",
    "thresholds = [0.1, 0.2, 0.3, 0.4, 0.5, 0.6, 0.7, 0.8, 0.9]\n",
    "\n",
    "# Percentages for each dataset (from the example you provided)\n",
    "cve_percentages = [0.32, 0.29, 0.27, 0.24, 0.21, 0.18, 0.15, 0.11, 0.06]\n",
    "cwe_percentages = [3.22, 1.48, 0.95, 0.66, 0.48, 0.38, 0.24, 0.18, 0.11]\n",
    "cwe_cve_percentages = [0.61, 0.37, 0.32, 0.15, 0.08, 0.08, 0.08, 0.08, 0.08]\n",
    "\n",
    "# Plot the results\n",
    "plt.figure(figsize=(10, 6))\n",
    "\n",
    "# Plot CVE similarity percentages\n",
    "sns.lineplot(x=thresholds, y=cve_percentages, marker='o', label='CVE Pairs', color='b')\n",
    "\n",
    "# Plot CWE similarity percentages\n",
    "sns.lineplot(x=thresholds, y=cwe_percentages, marker='o', label='CWE Pairs', color='g')\n",
    "\n",
    "# Plot CWE-CVE similarity percentages\n",
    "sns.lineplot(x=thresholds, y=cwe_cve_percentages, marker='o', label='CWE-CVE Pairs', color='r')\n",
    "\n",
    "# Add titles and labels\n",
    "# plt.title('Percentage of Similarity Scores Above Threshold')\n",
    "plt.xlabel('Threshold',fontsize=14)\n",
    "plt.ylabel('Percentage',fontsize=14)\n",
    "plt.xticks(thresholds)\n",
    "plt.grid(True)\n",
    "\n",
    "# Display the legend\n",
    "plt.legend()\n",
    "\n",
    "# Show the plot\n",
    "plt.show()\n"
   ]
  },
  {
   "cell_type": "code",
   "execution_count": null,
   "id": "4739059b-940a-4b87-a3ef-6a12c7456fc5",
   "metadata": {},
   "outputs": [],
   "source": []
  },
  {
   "cell_type": "code",
   "execution_count": null,
   "id": "eaea7692-f947-4f65-9056-38cafd089368",
   "metadata": {},
   "outputs": [],
   "source": []
  }
 ],
 "metadata": {
  "kernelspec": {
   "display_name": "Python 3 (ipykernel)",
   "language": "python",
   "name": "python3"
  },
  "language_info": {
   "codemirror_mode": {
    "name": "ipython",
    "version": 3
   },
   "file_extension": ".py",
   "mimetype": "text/x-python",
   "name": "python",
   "nbconvert_exporter": "python",
   "pygments_lexer": "ipython3",
   "version": "3.10.13"
  }
 },
 "nbformat": 4,
 "nbformat_minor": 5
}
