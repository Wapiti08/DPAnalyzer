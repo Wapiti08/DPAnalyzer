{
 "cells": [
  {
   "cell_type": "code",
   "execution_count": 6,
   "id": "a6fa82f7-4de2-4ceb-962d-a8f334ad944a",
   "metadata": {},
   "outputs": [],
   "source": [
    "import json"
   ]
  },
  {
   "cell_type": "code",
   "execution_count": 8,
   "id": "4dc45921-5c10-46de-8706-a6e1a353cda9",
   "metadata": {},
   "outputs": [],
   "source": [
    "# load json file to extend the node info\n",
    "with open(\"../data/aggregated_data.json\") as jr:\n",
    "    cve_json = json.load(jr)\n",
    "\n"
   ]
  },
  {
   "cell_type": "code",
   "execution_count": 18,
   "id": "83808c27-40e6-46a1-a5ae-9848bc1da970",
   "metadata": {},
   "outputs": [],
   "source": [
    "order = 0\n",
    "for key, value in cve_json.items():\n",
    "    while order >= 10:\n",
    "        print(key)\n",
    "        print(value)\n",
    "        order += 1\n",
    "        "
   ]
  },
  {
   "cell_type": "code",
   "execution_count": 15,
   "id": "69ca9d5d-7b8c-4ce9-ae5a-47a6938662f2",
   "metadata": {},
   "outputs": [
    {
     "data": {
      "text/plain": [
       "['org.jenkins-ci.main:cli:1.591',\n",
       " 'org.elasticsearch:elasticsearch-hadoop:2.2.0-beta1',\n",
       " 'org.jvnet.hudson.main:hudson-core:1.128',\n",
       " 'net.sourceforge.htmlunit:neko-htmlunit:2.47.0',\n",
       " 'org.jenkins-ci.main:cli:1.592',\n",
       " 'org.jvnet.hudson.main:hudson-core:1.129',\n",
       " 'net.sourceforge.htmlunit:neko-htmlunit:2.47.1',\n",
       " 'org.springframework.boot:spring-boot-actuator:1.2.6.RELEASE',\n",
       " 'org.jenkins-ci.main:cli:1.593',\n",
       " 'org.jenkins-ci.main:cli:1.594',\n",
       " 'org.jvnet.hudson.main:hudson-core:1.124',\n",
       " 'org.xwiki.rendering:xwiki-rendering-syntax-xhtml:7.3-milestone-1',\n",
       " 'org.jvnet.hudson.main:hudson-core:1.125',\n",
       " 'org.jvnet.hudson.main:hudson-core:1.126',\n",
       " 'org.jenkins-ci.main:cli:1.590',\n",
       " 'org.jvnet.hudson.main:hudson-core:1.127',\n",
       " 'org.jvnet.hudson.main:hudson-core:1.120',\n",
       " 'org.jvnet.hudson.main:hudson-core:1.121',\n",
       " 'org.jvnet.hudson.main:hudson-core:1.122',\n",
       " 'org.jvnet.hudson.main:hudson-core:1.123']"
      ]
     },
     "execution_count": 15,
     "metadata": {},
     "output_type": "execute_result"
    }
   ],
   "source": [
    "list(cve_json.keys())[:20]"
   ]
  },
  {
   "cell_type": "code",
   "execution_count": 12,
   "id": "b48b2527-9314-4325-b8a9-75c476fb2de5",
   "metadata": {},
   "outputs": [
    {
     "data": {
      "text/plain": [
       "97054"
      ]
     },
     "execution_count": 12,
     "metadata": {},
     "output_type": "execute_result"
    }
   ],
   "source": [
    "len(list(cve_json.keys()))"
   ]
  },
  {
   "cell_type": "code",
   "execution_count": null,
   "id": "61dc52e2-c4f7-40e5-a0d5-0f30e8ea2b9f",
   "metadata": {},
   "outputs": [],
   "source": []
  }
 ],
 "metadata": {
  "kernelspec": {
   "display_name": "Python 3 (ipykernel)",
   "language": "python",
   "name": "python3"
  },
  "language_info": {
   "codemirror_mode": {
    "name": "ipython",
    "version": 3
   },
   "file_extension": ".py",
   "mimetype": "text/x-python",
   "name": "python",
   "nbconvert_exporter": "python",
   "pygments_lexer": "ipython3",
   "version": "3.8.10"
  }
 },
 "nbformat": 4,
 "nbformat_minor": 5
}
