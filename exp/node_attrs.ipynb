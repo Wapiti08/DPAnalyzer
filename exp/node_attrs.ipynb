{
 "cells": [
  {
   "cell_type": "markdown",
   "metadata": {},
   "source": [
    "## load the pre-saved nodes and edges to check the CVE information"
   ]
  },
  {
   "cell_type": "code",
   "execution_count": 1,
   "metadata": {},
   "outputs": [],
   "source": [
    "import sys\n",
    "from pathlib import Path\n",
    "sys.path.insert(0, Path(sys.path[0]).parent.as_posix())\n",
    "from lxml import etree\n",
    "import pickle\n",
    "from cent import between_cent, degree_cent, eigen_cent\n",
    "import logging\n",
    "from pathlib import Path\n",
    "from datetime import datetime\n",
    "\n",
    "logging.basicConfig(level=logging.DEBUG,\n",
    "                    format='%(asctime)s [%(levelname)s]: %(message)s',\n",
    "                    datefmt='%Y-%m-%d %H:%M:%S'\n",
    "                )\n",
    "logger = logging.getLogger(__name__)\n",
    "file_handler = logging.FileHandler('cent_cal.log')\n",
    "file_handler.setLevel(logging.DEBUG)\n",
    "file_formatter = logging.Formatter('%(asctime)s - %(name)s - %(levelname)s - %(message)s')\n",
    "file_handler.setFormatter(file_formatter)\n",
    "logger.addHandler(file_handler)"
   ]
  },
  {
   "cell_type": "code",
   "execution_count": 2,
   "metadata": {},
   "outputs": [],
   "source": [
    "def save_data(nodes, edges, file_path):\n",
    "    with file_path.open('wb') as f:\n",
    "        pickle.dump({'nodes': nodes, 'edges': edges}, f)        \n",
    "    \n",
    "\n",
    "def load_data(file_path):\n",
    "    with file_path.open('rb') as f:\n",
    "        data = pickle.load(f)\n",
    "    return data['nodes'], data['edges']"
   ]
  },
  {
   "cell_type": "code",
   "execution_count": 3,
   "metadata": {},
   "outputs": [
    {
     "name": "stderr",
     "output_type": "stream",
     "text": [
      "2024-11-08 11:38:12 [INFO]: Loading nodes and edges from saved file.\n"
     ]
    }
   ],
   "source": [
    "graph_path = Path.cwd().parent.joinpath(\"data\", 'graph_nodes_edges.pkl')\n",
    "\n",
    "if  graph_path.exists():\n",
    "    logger.info(\"Loading nodes and edges from saved file.\")\n",
    "    nodes, edges = load_data(graph_path)\n",
    "else:\n",
    "    file_path = Path.cwd().parent.joinpath(\"data\", \"graph_metric.graphml\").as_posix()\n",
    "    logger.info(\"Parsing nodes and edges from GraphML.\")\n",
    "    # generate nodes and edges from graphml\n",
    "    now = datetime.now()\n",
    "    nodes, edges = parse_graphml_in_chunks(file_path)\n",
    "    logger.info(f\"Time spent for node loading from graphml is: {datetime.now() - now}\")\n",
    "    save_data(nodes, edges, graph_path)\n"
   ]
  },
  {
   "cell_type": "code",
   "execution_count": 4,
   "metadata": {},
   "outputs": [],
   "source": [
    "import json\n",
    "\n",
    "def str_to_json(escaped_json_str):\n",
    "    try:\n",
    "        clean_str = escaped_json_str.replace('\\\\\"', '\"')\n",
    "        return json.loads(clean_str)\n",
    "    except ValueError as e:\n",
    "        print(f\"Error parsing JSON: {e}\")\n",
    "        return None"
   ]
  },
  {
   "cell_type": "code",
   "execution_count": 5,
   "metadata": {},
   "outputs": [],
   "source": [
    "# Filter nodes that have the 'severity' attribute\n",
    "nodes_with_severity = {node_id: node for node_id, node in nodes.items() if 'type' in node and node['type'] == \"CVE\" and str_to_json(node[\"value\"])['cve'] !=[]}\n",
    "# nodes_with_severity = {node_id: node for node_id, node in nodes.items() if 'type' in node and str_to_json(node[\"value\"])[\"cve\"]!=[]}"
   ]
  },
  {
   "cell_type": "code",
   "execution_count": 6,
   "metadata": {},
   "outputs": [
    {
     "name": "stdout",
     "output_type": "stream",
     "text": [
      "n14293237 {'labels': ':AddedValue', 'id': 'org.keycloak:keycloak-core:3.4.1.Final:CVE', 'type': 'CVE', 'value': '{\\\\\"cve\\\\\":[{\\\\\"cwe\\\\\":\\\\\"[CWE-267]\\\\\",\\\\\"severity\\\\\":\\\\\"HIGH\\\\\",\\\\\"name\\\\\":\\\\\"CVE-2019-10170\\\\\"},{\\\\\"cwe\\\\\":\\\\\"[CWE-79]\\\\\",\\\\\"severity\\\\\":\\\\\"MODERATE\\\\\",\\\\\"name\\\\\":\\\\\"CVE-2022-0225\\\\\"},{\\\\\"cwe\\\\\":\\\\\"[CWE-79]\\\\\",\\\\\"severity\\\\\":\\\\\"MODERATE\\\\\",\\\\\"name\\\\\":\\\\\"CVE-2020-1697\\\\\"},{\\\\\"cwe\\\\\":\\\\\"[CWE-547,CWE-798]\\\\\",\\\\\"severity\\\\\":\\\\\"CRITICAL\\\\\",\\\\\"name\\\\\":\\\\\"CVE-2019-14837\\\\\"},{\\\\\"cwe\\\\\":\\\\\"[CWE-306]\\\\\",\\\\\"severity\\\\\":\\\\\"MODERATE\\\\\",\\\\\"name\\\\\":\\\\\"CVE-2021-20262\\\\\"},{\\\\\"cwe\\\\\":\\\\\"[CWE-1021]\\\\\",\\\\\"severity\\\\\":\\\\\"MODERATE\\\\\",\\\\\"name\\\\\":\\\\\"CVE-2020-1728\\\\\"},{\\\\\"cwe\\\\\":\\\\\"[CWE-285,CWE-287]\\\\\",\\\\\"severity\\\\\":\\\\\"HIGH\\\\\",\\\\\"name\\\\\":\\\\\"CVE-2018-14637\\\\\"},{\\\\\"cwe\\\\\":\\\\\"[CWE-276]\\\\\",\\\\\"severity\\\\\":\\\\\"LOW\\\\\",\\\\\"name\\\\\":\\\\\"UNKNOWN\\\\\"},{\\\\\"cwe\\\\\":\\\\\"[CWE-285]\\\\\",\\\\\"severity\\\\\":\\\\\"MODERATE\\\\\",\\\\\"name\\\\\":\\\\\"CVE-2020-10686\\\\\"},{\\\\\"cwe\\\\\":\\\\\"[CWE-20]\\\\\",\\\\\"severity\\\\\":\\\\\"HIGH\\\\\",\\\\\"name\\\\\":\\\\\"CVE-2020-1714\\\\\"},{\\\\\"cwe\\\\\":\\\\\"[CWE-287,CWE-841]\\\\\",\\\\\"severity\\\\\":\\\\\"MODERATE\\\\\",\\\\\"name\\\\\":\\\\\"UNKNOWN\\\\\"},{\\\\\"cwe\\\\\":\\\\\"[CWE-613]\\\\\",\\\\\"severity\\\\\":\\\\\"MODERATE\\\\\",\\\\\"name\\\\\":\\\\\"CVE-2020-1724\\\\\"},{\\\\\"cwe\\\\\":\\\\\"[CWE-835]\\\\\",\\\\\"severity\\\\\":\\\\\"MODERATE\\\\\",\\\\\"name\\\\\":\\\\\"CVE-2018-10912\\\\\"},{\\\\\"cwe\\\\\":\\\\\"[CWE-287]\\\\\",\\\\\"severity\\\\\":\\\\\"MODERATE\\\\\",\\\\\"name\\\\\":\\\\\"CVE-2020-27838\\\\\"},{\\\\\"cwe\\\\\":\\\\\"[CWE-287,CWE-841]\\\\\",\\\\\"severity\\\\\":\\\\\"MODERATE\\\\\",\\\\\"name\\\\\":\\\\\"CVE-2023-0105\\\\\"},{\\\\\"cwe\\\\\":\\\\\"[CWE-200,CWE-755]\\\\\",\\\\\"severity\\\\\":\\\\\"MODERATE\\\\\",\\\\\"name\\\\\":\\\\\"CVE-2020-1744\\\\\"},{\\\\\"cwe\\\\\":\\\\\"[CWE-295,CWE-345]\\\\\",\\\\\"severity\\\\\":\\\\\"MODERATE\\\\\",\\\\\"name\\\\\":\\\\\"CVE-2019-3875\\\\\"},{\\\\\"cwe\\\\\":\\\\\"[CWE-601]\\\\\",\\\\\"severity\\\\\":\\\\\"MODERATE\\\\\",\\\\\"name\\\\\":\\\\\"UNKNOWN\\\\\"},{\\\\\"cwe\\\\\":\\\\\"[CWE-200,CWE-532]\\\\\",\\\\\"severity\\\\\":\\\\\"MODERATE\\\\\",\\\\\"name\\\\\":\\\\\"CVE-2020-1698\\\\\"},{\\\\\"cwe\\\\\":\\\\\"[CWE-863]\\\\\",\\\\\"severity\\\\\":\\\\\"MODERATE\\\\\",\\\\\"name\\\\\":\\\\\"CVE-2022-1466\\\\\"},{\\\\\"cwe\\\\\":\\\\\"[CWE-200]\\\\\",\\\\\"severity\\\\\":\\\\\"MODERATE\\\\\",\\\\\"name\\\\\":\\\\\"CVE-2019-14820\\\\\"},{\\\\\"cwe\\\\\":\\\\\"[CWE-295]\\\\\",\\\\\"severity\\\\\":\\\\\"MODERATE\\\\\",\\\\\"name\\\\\":\\\\\"UNKNOWN\\\\\"},{\\\\\"cwe\\\\\":\\\\\"[CWE-250]\\\\\",\\\\\"severity\\\\\":\\\\\"HIGH\\\\\",\\\\\"name\\\\\":\\\\\"CVE-2020-27826\\\\\"},{\\\\\"cwe\\\\\":\\\\\"[CWE-377]\\\\\",\\\\\"severity\\\\\":\\\\\"HIGH\\\\\",\\\\\"name\\\\\":\\\\\"CVE-2021-20202\\\\\"},{\\\\\"cwe\\\\\":\\\\\"[CWE-330,CWE-341]\\\\\",\\\\\"severity\\\\\":\\\\\"CRITICAL\\\\\",\\\\\"name\\\\\":\\\\\"CVE-2020-1731\\\\\"},{\\\\\"cwe\\\\\":\\\\\"[CWE-80]\\\\\",\\\\\"severity\\\\\":\\\\\"MODERATE\\\\\",\\\\\"name\\\\\":\\\\\"CVE-2022-0225\\\\\"},{\\\\\"cwe\\\\\":\\\\\"[CWE-645]\\\\\",\\\\\"severity\\\\\":\\\\\"LOW\\\\\",\\\\\"name\\\\\":\\\\\"CVE-2024-1722\\\\\"},{\\\\\"cwe\\\\\":\\\\\"[CWE-200]\\\\\",\\\\\"severity\\\\\":\\\\\"MODERATE\\\\\",\\\\\"name\\\\\":\\\\\"CVE-2019-3868\\\\\"},{\\\\\"cwe\\\\\":\\\\\"[CWE-287]\\\\\",\\\\\"severity\\\\\":\\\\\"HIGH\\\\\",\\\\\"name\\\\\":\\\\\"CVE-2021-3632\\\\\"},{\\\\\"cwe\\\\\":\\\\\"[CWE-295]\\\\\",\\\\\"severity\\\\\":\\\\\"MODERATE\\\\\",\\\\\"name\\\\\":\\\\\"CVE-2020-35509\\\\\"},{\\\\\"cwe\\\\\":\\\\\"[CWE-79]\\\\\",\\\\\"severity\\\\\":\\\\\"MODERATE\\\\\",\\\\\"name\\\\\":\\\\\"UNKNOWN\\\\\"},{\\\\\"cwe\\\\\":\\\\\"[CWE-601,CWE-918]\\\\\",\\\\\"severity\\\\\":\\\\\"MODERATE\\\\\",\\\\\"name\\\\\":\\\\\"CVE-2020-10770\\\\\"},{\\\\\"cwe\\\\\":\\\\\"[CWE-20,CWE-352]\\\\\",\\\\\"severity\\\\\":\\\\\"HIGH\\\\\",\\\\\"name\\\\\":\\\\\"CVE-2019-10199\\\\\"},{\\\\\"cwe\\\\\":\\\\\"[CWE-347]\\\\\",\\\\\"severity\\\\\":\\\\\"MODERATE\\\\\",\\\\\"name\\\\\":\\\\\"CVE-2019-10201\\\\\"},{\\\\\"cwe\\\\\":\\\\\"[CWE-284,CWE-863]\\\\\",\\\\\"severity\\\\\":\\\\\"MODERATE\\\\\",\\\\\"name\\\\\":\\\\\"CVE-2023-0091\\\\\"},{\\\\\"cwe\\\\\":\\\\\"[CWE-295]\\\\\",\\\\\"severity\\\\\":\\\\\"MODERATE\\\\\",\\\\\"name\\\\\":\\\\\"CVE-2023-1664\\\\\"},{\\\\\"cwe\\\\\":\\\\\"[CWE-602]\\\\\",\\\\\"severity\\\\\":\\\\\"MODERATE\\\\\",\\\\\"name\\\\\":\\\\\"CVE-2017-12161\\\\\"},{\\\\\"cwe\\\\\":\\\\\"[CWE-116,CWE-20,CWE-79]\\\\\",\\\\\"severity\\\\\":\\\\\"CRITICAL\\\\\",\\\\\"name\\\\\":\\\\\"CVE-2021-20195\\\\\"},{\\\\\"cwe\\\\\":\\\\\"[CWE-22,CWE-552]\\\\\",\\\\\"severity\\\\\":\\\\\"MODERATE\\\\\",\\\\\"name\\\\\":\\\\\"CVE-2021-3856\\\\\"},{\\\\\"cwe\\\\\":\\\\\"[CWE-269,CWE-916]\\\\\",\\\\\"severity\\\\\":\\\\\"HIGH\\\\\",\\\\\"name\\\\\":\\\\\"CVE-2020-14389\\\\\"},{\\\\\"cwe\\\\\":\\\\\"[CWE-20]\\\\\",\\\\\"severity\\\\\":\\\\\"MODERATE\\\\\",\\\\\"name\\\\\":\\\\\"CVE-2021-3754\\\\\"}]}'}\n",
      "n15119342 {'labels': ':AddedValue', 'id': 'com.graphql-java:graphql-java:0.0.0-2021-08-27T03-44-16-27b11d99:CVE', 'type': 'CVE', 'value': '{\\\\\"cve\\\\\":[{\\\\\"cwe\\\\\":\\\\\"[CWE-770]\\\\\",\\\\\"severity\\\\\":\\\\\"HIGH\\\\\",\\\\\"name\\\\\":\\\\\"CVE-2023-28867\\\\\"},{\\\\\"cwe\\\\\":\\\\\"[CWE-770]\\\\\",\\\\\"severity\\\\\":\\\\\"HIGH\\\\\",\\\\\"name\\\\\":\\\\\"CVE-2024-40094\\\\\"},{\\\\\"cwe\\\\\":\\\\\"[CWE-400]\\\\\",\\\\\"severity\\\\\":\\\\\"HIGH\\\\\",\\\\\"name\\\\\":\\\\\"CVE-2022-37734\\\\\"}]}'}\n",
      "n15119457 {'labels': ':AddedValue', 'id': 'org.wso2.carbon.apimgt:forum:6.5.279:CVE', 'type': 'CVE', 'value': '{\\\\\"cve\\\\\":[{\\\\\"cwe\\\\\":\\\\\"[CWE-20]\\\\\",\\\\\"severity\\\\\":\\\\\"MODERATE\\\\\",\\\\\"name\\\\\":\\\\\"CVE-2023-6835\\\\\"}]}'}\n",
      "n15119459 {'labels': ':AddedValue', 'id': 'org.wso2.carbon.apimgt:forum:6.5.278:CVE', 'type': 'CVE', 'value': '{\\\\\"cve\\\\\":[{\\\\\"cwe\\\\\":\\\\\"[CWE-20]\\\\\",\\\\\"severity\\\\\":\\\\\"MODERATE\\\\\",\\\\\"name\\\\\":\\\\\"CVE-2023-6835\\\\\"}]}'}\n",
      "n15119461 {'labels': ':AddedValue', 'id': 'org.wso2.carbon.apimgt:forum:6.5.277:CVE', 'type': 'CVE', 'value': '{\\\\\"cve\\\\\":[{\\\\\"cwe\\\\\":\\\\\"[CWE-20]\\\\\",\\\\\"severity\\\\\":\\\\\"MODERATE\\\\\",\\\\\"name\\\\\":\\\\\"CVE-2023-6835\\\\\"}]}'}\n",
      "n15119506 {'labels': ':AddedValue', 'id': 'org.wso2.carbon.apimgt:forum:6.5.274:CVE', 'type': 'CVE', 'value': '{\\\\\"cve\\\\\":[{\\\\\"cwe\\\\\":\\\\\"[CWE-20]\\\\\",\\\\\"severity\\\\\":\\\\\"MODERATE\\\\\",\\\\\"name\\\\\":\\\\\"CVE-2023-6835\\\\\"}]}'}\n",
      "n15119508 {'labels': ':AddedValue', 'id': 'org.wso2.carbon.apimgt:forum:6.5.273:CVE', 'type': 'CVE', 'value': '{\\\\\"cve\\\\\":[{\\\\\"cwe\\\\\":\\\\\"[CWE-20]\\\\\",\\\\\"severity\\\\\":\\\\\"MODERATE\\\\\",\\\\\"name\\\\\":\\\\\"CVE-2023-6835\\\\\"}]}'}\n",
      "n15119510 {'labels': ':AddedValue', 'id': 'org.wso2.carbon.apimgt:forum:6.5.272:CVE', 'type': 'CVE', 'value': '{\\\\\"cve\\\\\":[{\\\\\"cwe\\\\\":\\\\\"[CWE-20]\\\\\",\\\\\"severity\\\\\":\\\\\"MODERATE\\\\\",\\\\\"name\\\\\":\\\\\"CVE-2023-6835\\\\\"}]}'}\n",
      "n15119515 {'labels': ':AddedValue', 'id': 'org.wso2.carbon.apimgt:forum:6.5.276:CVE', 'type': 'CVE', 'value': '{\\\\\"cve\\\\\":[{\\\\\"cwe\\\\\":\\\\\"[CWE-20]\\\\\",\\\\\"severity\\\\\":\\\\\"MODERATE\\\\\",\\\\\"name\\\\\":\\\\\"CVE-2023-6835\\\\\"}]}'}\n",
      "n15119520 {'labels': ':AddedValue', 'id': 'org.wso2.carbon.apimgt:forum:6.5.275:CVE', 'type': 'CVE', 'value': '{\\\\\"cve\\\\\":[{\\\\\"cwe\\\\\":\\\\\"[CWE-20]\\\\\",\\\\\"severity\\\\\":\\\\\"MODERATE\\\\\",\\\\\"name\\\\\":\\\\\"CVE-2023-6835\\\\\"}]}'}\n"
     ]
    }
   ],
   "source": [
    "# Using list slicing to print the first two items\n",
    "for node_id, node in list(nodes_with_severity.items())[:10]:\n",
    "    print(node_id, node)"
   ]
  },
  {
   "cell_type": "code",
   "execution_count": 8,
   "metadata": {},
   "outputs": [],
   "source": [
    "example_node= {\"n0\": \n",
    "               {'labels': ':AddedValue', \n",
    "                 'id': 'org.keycloak:keycloak-core:3.4.1.Final:CVE', 'type': 'CVE', 'value': '{\\\\\"cve\\\\\":[{\\\\\"cwe\\\\\":\\\\\"[CWE-267]\\\\\",\\\\\"severity\\\\\":\\\\\"HIGH\\\\\",\\\\\"name\\\\\":\\\\\"CVE-2019-10170\\\\\"},{\\\\\"cwe\\\\\":\\\\\"[CWE-79]\\\\\",\\\\\"severity\\\\\":\\\\\"MODERATE\\\\\",\\\\\"name\\\\\":\\\\\"CVE-2022-0225\\\\\"},{\\\\\"cwe\\\\\":\\\\\"[CWE-79]\\\\\",\\\\\"severity\\\\\":\\\\\"MODERATE\\\\\",\\\\\"name\\\\\":\\\\\"CVE-2020-1697\\\\\"},{\\\\\"cwe\\\\\":\\\\\"[CWE-547,CWE-798]\\\\\",\\\\\"severity\\\\\":\\\\\"CRITICAL\\\\\",\\\\\"name\\\\\":\\\\\"CVE-2019-14837\\\\\"},{\\\\\"cwe\\\\\":\\\\\"[CWE-306]\\\\\",\\\\\"severity\\\\\":\\\\\"MODERATE\\\\\",\\\\\"name\\\\\":\\\\\"CVE-2021-20262\\\\\"},{\\\\\"cwe\\\\\":\\\\\"[CWE-1021]\\\\\",\\\\\"severity\\\\\":\\\\\"MODERATE\\\\\",\\\\\"name\\\\\":\\\\\"CVE-2020-1728\\\\\"},{\\\\\"cwe\\\\\":\\\\\"[CWE-285,CWE-287]\\\\\",\\\\\"severity\\\\\":\\\\\"HIGH\\\\\",\\\\\"name\\\\\":\\\\\"CVE-2018-14637\\\\\"},{\\\\\"cwe\\\\\":\\\\\"[CWE-276]\\\\\",\\\\\"severity\\\\\":\\\\\"LOW\\\\\",\\\\\"name\\\\\":\\\\\"UNKNOWN\\\\\"},{\\\\\"cwe\\\\\":\\\\\"[CWE-285]\\\\\",\\\\\"severity\\\\\":\\\\\"MODERATE\\\\\",\\\\\"name\\\\\":\\\\\"CVE-2020-10686\\\\\"},{\\\\\"cwe\\\\\":\\\\\"[CWE-20]\\\\\",\\\\\"severity\\\\\":\\\\\"HIGH\\\\\",\\\\\"name\\\\\":\\\\\"CVE-2020-1714\\\\\"},{\\\\\"cwe\\\\\":\\\\\"[CWE-287,CWE-841]\\\\\",\\\\\"severity\\\\\":\\\\\"MODERATE\\\\\",\\\\\"name\\\\\":\\\\\"UNKNOWN\\\\\"},{\\\\\"cwe\\\\\":\\\\\"[CWE-613]\\\\\",\\\\\"severity\\\\\":\\\\\"MODERATE\\\\\",\\\\\"name\\\\\":\\\\\"CVE-2020-1724\\\\\"},{\\\\\"cwe\\\\\":\\\\\"[CWE-835]\\\\\",\\\\\"severity\\\\\":\\\\\"MODERATE\\\\\",\\\\\"name\\\\\":\\\\\"CVE-2018-10912\\\\\"},{\\\\\"cwe\\\\\":\\\\\"[CWE-287]\\\\\",\\\\\"severity\\\\\":\\\\\"MODERATE\\\\\",\\\\\"name\\\\\":\\\\\"CVE-2020-27838\\\\\"},{\\\\\"cwe\\\\\":\\\\\"[CWE-287,CWE-841]\\\\\",\\\\\"severity\\\\\":\\\\\"MODERATE\\\\\",\\\\\"name\\\\\":\\\\\"CVE-2023-0105\\\\\"},{\\\\\"cwe\\\\\":\\\\\"[CWE-200,CWE-755]\\\\\",\\\\\"severity\\\\\":\\\\\"MODERATE\\\\\",\\\\\"name\\\\\":\\\\\"CVE-2020-1744\\\\\"},{\\\\\"cwe\\\\\":\\\\\"[CWE-295,CWE-345]\\\\\",\\\\\"severity\\\\\":\\\\\"MODERATE\\\\\",\\\\\"name\\\\\":\\\\\"CVE-2019-3875\\\\\"},{\\\\\"cwe\\\\\":\\\\\"[CWE-601]\\\\\",\\\\\"severity\\\\\":\\\\\"MODERATE\\\\\",\\\\\"name\\\\\":\\\\\"UNKNOWN\\\\\"},{\\\\\"cwe\\\\\":\\\\\"[CWE-200,CWE-532]\\\\\",\\\\\"severity\\\\\":\\\\\"MODERATE\\\\\",\\\\\"name\\\\\":\\\\\"CVE-2020-1698\\\\\"},{\\\\\"cwe\\\\\":\\\\\"[CWE-863]\\\\\",\\\\\"severity\\\\\":\\\\\"MODERATE\\\\\",\\\\\"name\\\\\":\\\\\"CVE-2022-1466\\\\\"},{\\\\\"cwe\\\\\":\\\\\"[CWE-200]\\\\\",\\\\\"severity\\\\\":\\\\\"MODERATE\\\\\",\\\\\"name\\\\\":\\\\\"CVE-2019-14820\\\\\"},{\\\\\"cwe\\\\\":\\\\\"[CWE-295]\\\\\",\\\\\"severity\\\\\":\\\\\"MODERATE\\\\\",\\\\\"name\\\\\":\\\\\"UNKNOWN\\\\\"},{\\\\\"cwe\\\\\":\\\\\"[CWE-250]\\\\\",\\\\\"severity\\\\\":\\\\\"HIGH\\\\\",\\\\\"name\\\\\":\\\\\"CVE-2020-27826\\\\\"},{\\\\\"cwe\\\\\":\\\\\"[CWE-377]\\\\\",\\\\\"severity\\\\\":\\\\\"HIGH\\\\\",\\\\\"name\\\\\":\\\\\"CVE-2021-20202\\\\\"},{\\\\\"cwe\\\\\":\\\\\"[CWE-330,CWE-341]\\\\\",\\\\\"severity\\\\\":\\\\\"CRITICAL\\\\\",\\\\\"name\\\\\":\\\\\"CVE-2020-1731\\\\\"},{\\\\\"cwe\\\\\":\\\\\"[CWE-80]\\\\\",\\\\\"severity\\\\\":\\\\\"MODERATE\\\\\",\\\\\"name\\\\\":\\\\\"CVE-2022-0225\\\\\"},{\\\\\"cwe\\\\\":\\\\\"[CWE-645]\\\\\",\\\\\"severity\\\\\":\\\\\"LOW\\\\\",\\\\\"name\\\\\":\\\\\"CVE-2024-1722\\\\\"},{\\\\\"cwe\\\\\":\\\\\"[CWE-200]\\\\\",\\\\\"severity\\\\\":\\\\\"MODERATE\\\\\",\\\\\"name\\\\\":\\\\\"CVE-2019-3868\\\\\"},{\\\\\"cwe\\\\\":\\\\\"[CWE-287]\\\\\",\\\\\"severity\\\\\":\\\\\"HIGH\\\\\",\\\\\"name\\\\\":\\\\\"CVE-2021-3632\\\\\"},{\\\\\"cwe\\\\\":\\\\\"[CWE-295]\\\\\",\\\\\"severity\\\\\":\\\\\"MODERATE\\\\\",\\\\\"name\\\\\":\\\\\"CVE-2020-35509\\\\\"},{\\\\\"cwe\\\\\":\\\\\"[CWE-79]\\\\\",\\\\\"severity\\\\\":\\\\\"MODERATE\\\\\",\\\\\"name\\\\\":\\\\\"UNKNOWN\\\\\"},{\\\\\"cwe\\\\\":\\\\\"[CWE-601,CWE-918]\\\\\",\\\\\"severity\\\\\":\\\\\"MODERATE\\\\\",\\\\\"name\\\\\":\\\\\"CVE-2020-10770\\\\\"},{\\\\\"cwe\\\\\":\\\\\"[CWE-20,CWE-352]\\\\\",\\\\\"severity\\\\\":\\\\\"HIGH\\\\\",\\\\\"name\\\\\":\\\\\"CVE-2019-10199\\\\\"},{\\\\\"cwe\\\\\":\\\\\"[CWE-347]\\\\\",\\\\\"severity\\\\\":\\\\\"MODERATE\\\\\",\\\\\"name\\\\\":\\\\\"CVE-2019-10201\\\\\"},{\\\\\"cwe\\\\\":\\\\\"[CWE-284,CWE-863]\\\\\",\\\\\"severity\\\\\":\\\\\"MODERATE\\\\\",\\\\\"name\\\\\":\\\\\"CVE-2023-0091\\\\\"},{\\\\\"cwe\\\\\":\\\\\"[CWE-295]\\\\\",\\\\\"severity\\\\\":\\\\\"MODERATE\\\\\",\\\\\"name\\\\\":\\\\\"CVE-2023-1664\\\\\"},{\\\\\"cwe\\\\\":\\\\\"[CWE-602]\\\\\",\\\\\"severity\\\\\":\\\\\"MODERATE\\\\\",\\\\\"name\\\\\":\\\\\"CVE-2017-12161\\\\\"},{\\\\\"cwe\\\\\":\\\\\"[CWE-116,CWE-20,CWE-79]\\\\\",\\\\\"severity\\\\\":\\\\\"CRITICAL\\\\\",\\\\\"name\\\\\":\\\\\"CVE-2021-20195\\\\\"},{\\\\\"cwe\\\\\":\\\\\"[CWE-22,CWE-552]\\\\\",\\\\\"severity\\\\\":\\\\\"MODERATE\\\\\",\\\\\"name\\\\\":\\\\\"CVE-2021-3856\\\\\"},{\\\\\"cwe\\\\\":\\\\\"[CWE-269,CWE-916]\\\\\",\\\\\"severity\\\\\":\\\\\"HIGH\\\\\",\\\\\"name\\\\\":\\\\\"CVE-2020-14389\\\\\"},{\\\\\"cwe\\\\\":\\\\\"[CWE-20]\\\\\",\\\\\"severity\\\\\":\\\\\"MODERATE\\\\\",\\\\\"name\\\\\":\\\\\"CVE-2021-3754\\\\\"}]}'\n",
    "             },\n",
    "              }"
   ]
  },
  {
   "cell_type": "code",
   "execution_count": 9,
   "metadata": {},
   "outputs": [
    {
     "data": {
      "text/plain": [
       "[{'cwe': '[CWE-267]', 'severity': 'HIGH', 'name': 'CVE-2019-10170'},\n",
       " {'cwe': '[CWE-79]', 'severity': 'MODERATE', 'name': 'CVE-2022-0225'},\n",
       " {'cwe': '[CWE-79]', 'severity': 'MODERATE', 'name': 'CVE-2020-1697'},\n",
       " {'cwe': '[CWE-547,CWE-798]',\n",
       "  'severity': 'CRITICAL',\n",
       "  'name': 'CVE-2019-14837'},\n",
       " {'cwe': '[CWE-306]', 'severity': 'MODERATE', 'name': 'CVE-2021-20262'},\n",
       " {'cwe': '[CWE-1021]', 'severity': 'MODERATE', 'name': 'CVE-2020-1728'},\n",
       " {'cwe': '[CWE-285,CWE-287]', 'severity': 'HIGH', 'name': 'CVE-2018-14637'},\n",
       " {'cwe': '[CWE-276]', 'severity': 'LOW', 'name': 'UNKNOWN'},\n",
       " {'cwe': '[CWE-285]', 'severity': 'MODERATE', 'name': 'CVE-2020-10686'},\n",
       " {'cwe': '[CWE-20]', 'severity': 'HIGH', 'name': 'CVE-2020-1714'},\n",
       " {'cwe': '[CWE-287,CWE-841]', 'severity': 'MODERATE', 'name': 'UNKNOWN'},\n",
       " {'cwe': '[CWE-613]', 'severity': 'MODERATE', 'name': 'CVE-2020-1724'},\n",
       " {'cwe': '[CWE-835]', 'severity': 'MODERATE', 'name': 'CVE-2018-10912'},\n",
       " {'cwe': '[CWE-287]', 'severity': 'MODERATE', 'name': 'CVE-2020-27838'},\n",
       " {'cwe': '[CWE-287,CWE-841]', 'severity': 'MODERATE', 'name': 'CVE-2023-0105'},\n",
       " {'cwe': '[CWE-200,CWE-755]', 'severity': 'MODERATE', 'name': 'CVE-2020-1744'},\n",
       " {'cwe': '[CWE-295,CWE-345]', 'severity': 'MODERATE', 'name': 'CVE-2019-3875'},\n",
       " {'cwe': '[CWE-601]', 'severity': 'MODERATE', 'name': 'UNKNOWN'},\n",
       " {'cwe': '[CWE-200,CWE-532]', 'severity': 'MODERATE', 'name': 'CVE-2020-1698'},\n",
       " {'cwe': '[CWE-863]', 'severity': 'MODERATE', 'name': 'CVE-2022-1466'},\n",
       " {'cwe': '[CWE-200]', 'severity': 'MODERATE', 'name': 'CVE-2019-14820'},\n",
       " {'cwe': '[CWE-295]', 'severity': 'MODERATE', 'name': 'UNKNOWN'},\n",
       " {'cwe': '[CWE-250]', 'severity': 'HIGH', 'name': 'CVE-2020-27826'},\n",
       " {'cwe': '[CWE-377]', 'severity': 'HIGH', 'name': 'CVE-2021-20202'},\n",
       " {'cwe': '[CWE-330,CWE-341]', 'severity': 'CRITICAL', 'name': 'CVE-2020-1731'},\n",
       " {'cwe': '[CWE-80]', 'severity': 'MODERATE', 'name': 'CVE-2022-0225'},\n",
       " {'cwe': '[CWE-645]', 'severity': 'LOW', 'name': 'CVE-2024-1722'},\n",
       " {'cwe': '[CWE-200]', 'severity': 'MODERATE', 'name': 'CVE-2019-3868'},\n",
       " {'cwe': '[CWE-287]', 'severity': 'HIGH', 'name': 'CVE-2021-3632'},\n",
       " {'cwe': '[CWE-295]', 'severity': 'MODERATE', 'name': 'CVE-2020-35509'},\n",
       " {'cwe': '[CWE-79]', 'severity': 'MODERATE', 'name': 'UNKNOWN'},\n",
       " {'cwe': '[CWE-601,CWE-918]',\n",
       "  'severity': 'MODERATE',\n",
       "  'name': 'CVE-2020-10770'},\n",
       " {'cwe': '[CWE-20,CWE-352]', 'severity': 'HIGH', 'name': 'CVE-2019-10199'},\n",
       " {'cwe': '[CWE-347]', 'severity': 'MODERATE', 'name': 'CVE-2019-10201'},\n",
       " {'cwe': '[CWE-284,CWE-863]', 'severity': 'MODERATE', 'name': 'CVE-2023-0091'},\n",
       " {'cwe': '[CWE-295]', 'severity': 'MODERATE', 'name': 'CVE-2023-1664'},\n",
       " {'cwe': '[CWE-602]', 'severity': 'MODERATE', 'name': 'CVE-2017-12161'},\n",
       " {'cwe': '[CWE-116,CWE-20,CWE-79]',\n",
       "  'severity': 'CRITICAL',\n",
       "  'name': 'CVE-2021-20195'},\n",
       " {'cwe': '[CWE-22,CWE-552]', 'severity': 'MODERATE', 'name': 'CVE-2021-3856'},\n",
       " {'cwe': '[CWE-269,CWE-916]', 'severity': 'HIGH', 'name': 'CVE-2020-14389'},\n",
       " {'cwe': '[CWE-20]', 'severity': 'MODERATE', 'name': 'CVE-2021-3754'}]"
      ]
     },
     "execution_count": 9,
     "metadata": {},
     "output_type": "execute_result"
    }
   ],
   "source": [
    "str_to_json(example_node['n0']['value'])['cve']"
   ]
  },
  {
   "cell_type": "markdown",
   "metadata": {},
   "source": [
    "## process freshness value"
   ]
  },
  {
   "cell_type": "code",
   "execution_count": 21,
   "metadata": {},
   "outputs": [],
   "source": [
    "# Filter nodes that have the 'severity' attribute\n",
    "nodes_with_freshness = {node_id: node for node_id, node in nodes.items() if 'type' in node and node['type'] == \"FRESHNESS\" and str_to_json(node[\"value\"])['freshness'] !={}}"
   ]
  },
  {
   "cell_type": "code",
   "execution_count": 22,
   "metadata": {},
   "outputs": [
    {
     "name": "stdout",
     "output_type": "stream",
     "text": [
      "n29576356 {'freshness': {'numberMissedRelease': '7', 'outdatedTimeInMs': '3795765000'}}\n",
      "n29576358 {'freshness': {'numberMissedRelease': '2', 'outdatedTimeInMs': '11941344000'}}\n",
      "n29576360 {'freshness': {'numberMissedRelease': '9', 'outdatedTimeInMs': '4685281000'}}\n",
      "n29576362 {'freshness': {'numberMissedRelease': '367', 'outdatedTimeInMs': '142773884000'}}\n",
      "n29576364 {'freshness': {'numberMissedRelease': '448', 'outdatedTimeInMs': '105191360000'}}\n",
      "n29576366 {'freshness': {'numberMissedRelease': '365', 'outdatedTimeInMs': '142745787000'}}\n",
      "n29576368 {'freshness': {'numberMissedRelease': '3', 'outdatedTimeInMs': '6591247000'}}\n",
      "n29576370 {'freshness': {'numberMissedRelease': '0', 'outdatedTimeInMs': '0'}}\n",
      "n29576372 {'freshness': {'numberMissedRelease': '5', 'outdatedTimeInMs': '3391477000'}}\n",
      "n29576374 {'freshness': {'numberMissedRelease': '1', 'outdatedTimeInMs': '117088000'}}\n"
     ]
    }
   ],
   "source": [
    "for node_id, node in list(nodes_with_freshness.items())[:10]:\n",
    "    print(node_id, str_to_json(node[\"value\"]))"
   ]
  },
  {
   "cell_type": "markdown",
   "metadata": {},
   "source": [
    "## process popularity value"
   ]
  },
  {
   "cell_type": "code",
   "execution_count": 27,
   "metadata": {},
   "outputs": [],
   "source": [
    "# Filter nodes that have the 'severity' attribute\n",
    "nodes_with_popu = {node_id: node for node_id, node in nodes.items() if 'type' in node and node['type'] == \"POPULARITY_1_YEAR\" and str_to_json(node[\"value\"]) !='0'}"
   ]
  },
  {
   "cell_type": "code",
   "execution_count": 28,
   "metadata": {},
   "outputs": [
    {
     "name": "stdout",
     "output_type": "stream",
     "text": [
      "n29576357 0\n",
      "n29576357 {'labels': ':AddedValue', 'value': '0', 'id': 'com.softwaremill.sttp.client:core_sjs0.6_2.13:2.0.2:POPULARITY_1_YEAR', 'type': 'POPULARITY_1_YEAR'}\n",
      "n29576359 0\n",
      "n29576359 {'labels': ':AddedValue', 'value': '0', 'id': 'com.ibeetl:act-sample:3.0.0-M6:POPULARITY_1_YEAR', 'type': 'POPULARITY_1_YEAR'}\n",
      "n29576361 0\n",
      "n29576361 {'labels': ':AddedValue', 'value': '0', 'id': 'com.softwaremill.sttp.client:core_sjs0.6_2.13:2.0.0:POPULARITY_1_YEAR', 'type': 'POPULARITY_1_YEAR'}\n",
      "n29576363 0\n",
      "n29576363 {'labels': ':AddedValue', 'value': '0', 'id': 'com.lihaoyi:ammonite_2.12.1:0.9.8:POPULARITY_1_YEAR', 'type': 'POPULARITY_1_YEAR'}\n",
      "n29576365 0\n",
      "n29576365 {'labels': ':AddedValue', 'value': '0', 'id': 'com.yahoo.vespa:container-disc:7.394.21:POPULARITY_1_YEAR', 'type': 'POPULARITY_1_YEAR'}\n",
      "n29576367 0\n",
      "n29576367 {'labels': ':AddedValue', 'value': '0', 'id': 'com.lihaoyi:ammonite_2.12.1:0.9.9:POPULARITY_1_YEAR', 'type': 'POPULARITY_1_YEAR'}\n",
      "n29576369 0\n",
      "n29576369 {'labels': ':AddedValue', 'value': '0', 'id': 'com.freeletics.khonshu:codegen-fragment:0.15.0:POPULARITY_1_YEAR', 'type': 'POPULARITY_1_YEAR'}\n",
      "n29576371 0\n",
      "n29576371 {'labels': ':AddedValue', 'value': '0', 'id': 'org.mybatis.scala:mybatis-scala-parent_2.12:1.2.0:POPULARITY_1_YEAR', 'type': 'POPULARITY_1_YEAR'}\n",
      "n29576373 0\n",
      "n29576373 {'labels': ':AddedValue', 'value': '0', 'id': 'com.softwaremill.sttp.client:core_sjs0.6_2.13:2.0.4:POPULARITY_1_YEAR', 'type': 'POPULARITY_1_YEAR'}\n",
      "n29576375 0\n",
      "n29576375 {'labels': ':AddedValue', 'value': '0', 'id': 'com.softwaremill.sttp.client:core_sjs0.6_2.13:2.0.8:POPULARITY_1_YEAR', 'type': 'POPULARITY_1_YEAR'}\n"
     ]
    }
   ],
   "source": [
    "for node_id, node in list(nodes_with_popu.items())[:10]:\n",
    "    print(node_id, node[\"value\"])\n",
    "    print(node_id, node)"
   ]
  },
  {
   "cell_type": "markdown",
   "metadata": {},
   "source": [
    "## process speed value"
   ]
  },
  {
   "cell_type": "code",
   "execution_count": 25,
   "metadata": {},
   "outputs": [],
   "source": [
    "# Filter nodes that have the 'severity' attribute\n",
    "nodes_with_speed = {node_id: node for node_id, node in nodes.items() if 'type' in node and node['type'] == \"SPEED\" and str_to_json(node[\"value\"]) !='0'}"
   ]
  },
  {
   "cell_type": "code",
   "execution_count": 26,
   "metadata": {},
   "outputs": [
    {
     "name": "stdout",
     "output_type": "stream",
     "text": [
      "n58494634 0.08070175438596491\n",
      "n58494634 {'labels': ':AddedValue', 'id': 'se.fortnox.reactivewizard:reactivewizard-jaxrs:SPEED', 'type': 'SPEED', 'value': '0.08070175438596491'}\n",
      "n58494635 0.08564476885644769\n",
      "n58494635 {'labels': ':AddedValue', 'id': 'com.walmartlabs.concord.plugins.basic:http-tasks:SPEED', 'type': 'SPEED', 'value': '0.08564476885644769'}\n",
      "n58494636 0.029411764705882353\n",
      "n58494636 {'labels': ':AddedValue', 'id': 'cc.akkaha:asura-dubbo_2.12:SPEED', 'type': 'SPEED', 'value': '0.029411764705882353'}\n",
      "n58494637 0.04967197750702906\n",
      "n58494637 {'labels': ':AddedValue', 'id': 'org.wildfly.security:wildfly-elytron-jose-jwk:SPEED', 'type': 'SPEED', 'value': '0.04967197750702906'}\n",
      "n58494638 0.3325480957989792\n",
      "n58494638 {'labels': ':AddedValue', 'id': 'com.yahoo.vespa:container-messagebus:SPEED', 'type': 'SPEED', 'value': '0.3325480957989792'}\n",
      "n58494639 0.014814814814814815\n",
      "n58494639 {'labels': ':AddedValue', 'id': 'it.tidalwave.thesefoolishthings:it-tidalwave-thesefoolishthings-examples-dci-swing:SPEED', 'type': 'SPEED', 'value': '0.014814814814814815'}\n",
      "n58494640 0.012981298129812982\n",
      "n58494640 {'labels': ':AddedValue', 'type': 'SPEED', 'value': '0.012981298129812982', 'id': 'org.glassfish.metro:guide:SPEED'}\n",
      "n58494641 0.09815950920245399\n",
      "n58494641 {'labels': ':AddedValue', 'type': 'SPEED', 'value': '0.09815950920245399', 'id': 'org.wildfly.swarm:ejb-parent:SPEED'}\n",
      "n58494642 0.6666666666666666\n",
      "n58494642 {'labels': ':AddedValue', 'id': 'me.shadaj:scalapy-core_native0.4_3:SPEED', 'type': 'SPEED', 'value': '0.6666666666666666'}\n",
      "n58494643 0.007110208227526663\n",
      "n58494643 {'labels': ':AddedValue', 'id': 'io.bootique.cayenne:bootique-cayenne41-jcache:SPEED', 'type': 'SPEED', 'value': '0.007110208227526663'}\n"
     ]
    }
   ],
   "source": [
    "for node_id, node in list(nodes_with_speed.items())[:10]:\n",
    "    print(node_id, node[\"value\"])\n",
    "    print(node_id, node)"
   ]
  },
  {
   "cell_type": "code",
   "execution_count": null,
   "metadata": {},
   "outputs": [],
   "source": []
  }
 ],
 "metadata": {
  "kernelspec": {
   "display_name": "Python 3 (ipykernel)",
   "language": "python",
   "name": "python3"
  },
  "language_info": {
   "codemirror_mode": {
    "name": "ipython",
    "version": 3
   },
   "file_extension": ".py",
   "mimetype": "text/x-python",
   "name": "python",
   "nbconvert_exporter": "python",
   "pygments_lexer": "ipython3",
   "version": "3.10.13"
  }
 },
 "nbformat": 4,
 "nbformat_minor": 4
}
