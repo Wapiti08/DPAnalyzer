{
 "cells": [
  {
   "cell_type": "code",
   "execution_count": 1,
   "id": "ce0ab004-a181-497b-bb71-4f70f2ef4b12",
   "metadata": {},
   "outputs": [],
   "source": [
    "from lxml import etree\n",
    "\n",
    "def parse_graphml_in_chunks(file_path):\n",
    "    context = etree.iterparse(file_path, events=(\"start\", \"end\"))\n",
    "    nodes = {}\n",
    "    edges = []\n",
    "    \n",
    "    for event, elem in context:\n",
    "        if event == \"end\" and elem.tag == \"{http://graphml.graphdrawing.org/xmlns}node\":\n",
    "            # Process node\n",
    "            node_id = elem.attrib['id']\n",
    "            # Extract other attributes if needed, e.g. CVE_Severity\n",
    "            attributes = {data.attrib['key']: data.text for data in elem.findall(\"{http://graphml.graphdrawing.org/xmlns}data\")}\n",
    "            nodes[node_id] = attributes\n",
    "            elem.clear()  # Clear memory\n",
    "\n",
    "        elif event == \"end\" and elem.tag == \"{http://graphml.graphdrawing.org/xmlns}edge\":\n",
    "            # Process edge\n",
    "            source = elem.attrib['source']\n",
    "            target = elem.attrib['target']\n",
    "            # Extract edge attributes\n",
    "            attributes = {data.attrib['key']: data.text for data in elem.findall(\"{http://graphml.graphdrawing.org/xmlns}data\")}\n",
    "            edges.append((source, target, attributes))\n",
    "            elem.clear()  # Clear memory\n",
    "            \n",
    "    return nodes, edges\n",
    "\n",
    "# Usage\n",
    "nodes, edges = parse_graphml_in_chunks('../data/graph_metric.graphml')"
   ]
  },
  {
   "cell_type": "code",
   "execution_count": 10,
   "id": "91c75566-87d8-4f18-a326-4afc9bc92081",
   "metadata": {},
   "outputs": [
    {
     "name": "stdout",
     "output_type": "stream",
     "text": [
      "59152712\n",
      "n0 {'labels': ':Artifact', 'id': 'com.splendo.kaluga:alerts-androidlib', 'found': 'true'}\n",
      "178155040\n",
      "[('n2', 'n13', {'label': 'relationship_AR'}), ('n1', 'n14', {'label': 'relationship_AR'}), ('n1', 'n7', {'label': 'relationship_AR'}), ('n1', 'n8', {'label': 'relationship_AR'}), ('n2', 'n9', {'label': 'relationship_AR'}), ('n2', 'n4', {'label': 'relationship_AR'}), ('n1', 'n11', {'label': 'relationship_AR'}), ('n1', 'n3', {'label': 'relationship_AR'}), ('n1', 'n6', {'label': 'relationship_AR'}), ('n2', 'n10', {'label': 'relationship_AR'})]\n"
     ]
    }
   ],
   "source": [
    "print(len(nodes))\n",
    "for key,value in nodes.items():\n",
    "    print(key, value)\n",
    "    break\n",
    "print(len(edges))\n",
    "print(edges[:10])"
   ]
  },
  {
   "cell_type": "code",
   "execution_count": 1,
   "id": "6cfa7aaa-02f0-4728-a239-0f031c765dbe",
   "metadata": {},
   "outputs": [
    {
     "ename": "NameError",
     "evalue": "name 'nodes' is not defined",
     "output_type": "error",
     "traceback": [
      "\u001b[0;31m---------------------------------------------------------------------------\u001b[0m",
      "\u001b[0;31mNameError\u001b[0m                                 Traceback (most recent call last)",
      "Cell \u001b[0;32mIn[1], line 20\u001b[0m\n\u001b[1;32m     17\u001b[0m     \u001b[38;5;28;01mreturn\u001b[39;00m g\n\u001b[1;32m     19\u001b[0m \u001b[38;5;66;03m# Example usage:\u001b[39;00m\n\u001b[0;32m---> 20\u001b[0m g \u001b[38;5;241m=\u001b[39m build_igraph_from_nodes_edges(\u001b[43mnodes\u001b[49m, edges)\n",
      "\u001b[0;31mNameError\u001b[0m: name 'nodes' is not defined"
     ]
    }
   ],
   "source": [
    "def build_igraph_from_nodes_edges(nodes, edges):\n",
    "    # Create an empty graph\n",
    "    g = ig.Graph(directed=True)\n",
    "\n",
    "    # Add all nodes first\n",
    "    node_ids = list(nodes.keys())  # Get all node IDs\n",
    "    g.add_vertices(node_ids)  # Add nodes by their IDs\n",
    "\n",
    "    # Add all edges\n",
    "    for edge in edges:\n",
    "        source, target, attributes = edge\n",
    "        if source in node_ids and target in node_ids:\n",
    "            g.add_edge(source, target, **attributes)\n",
    "        else:\n",
    "            print(f\"Missing node for edge: {source} -> {target}\")\n",
    "\n",
    "    return g\n",
    "\n",
    "# Example usage:\n",
    "g = build_igraph_from_nodes_edges(nodes, edges)"
   ]
  },
  {
   "cell_type": "markdown",
   "id": "c7434a21-1af5-4f0e-8b4b-6571e7d366a4",
   "metadata": {},
   "source": [
    "## print out the attributes of first 10 nodes"
   ]
  },
  {
   "cell_type": "code",
   "execution_count": null,
   "id": "b735e835-ae39-4f76-a45b-effd3c1b49a8",
   "metadata": {},
   "outputs": [],
   "source": [
    "for node, attrs in list(G.nodes(data=True))[:10]:\n",
    "    print(f\"Node {node}: {attrs}\")\n"
   ]
  },
  {
   "cell_type": "markdown",
   "id": "1ad61fec-0717-454f-87cc-cf21c3fac59a",
   "metadata": {},
   "source": [
    "## print our the attributes of first 10 edges"
   ]
  },
  {
   "cell_type": "code",
   "execution_count": null,
   "id": "092e38b8-9d93-4b32-bc4b-db794cf163bb",
   "metadata": {},
   "outputs": [],
   "source": [
    "for u, v, attrs in list(G.edges(data=True))[:10]:\n",
    "    print(f\"Edge {u}-{v}: {attrs}\")"
   ]
  },
  {
   "cell_type": "markdown",
   "id": "8adfee4a-5518-4714-8724-1c1f8e346c12",
   "metadata": {},
   "source": [
    "## measure the basic centrality"
   ]
  },
  {
   "cell_type": "code",
   "execution_count": null,
   "id": "e81d2ff7-a62d-4240-88ad-c909dba930f9",
   "metadata": {},
   "outputs": [],
   "source": []
  }
 ],
 "metadata": {
  "kernelspec": {
   "display_name": "Python 3 (ipykernel)",
   "language": "python",
   "name": "python3"
  },
  "language_info": {
   "codemirror_mode": {
    "name": "ipython",
    "version": 3
   },
   "file_extension": ".py",
   "mimetype": "text/x-python",
   "name": "python",
   "nbconvert_exporter": "python",
   "pygments_lexer": "ipython3",
   "version": "3.10.13"
  }
 },
 "nbformat": 4,
 "nbformat_minor": 5
}
