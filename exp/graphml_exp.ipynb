{
 "cells": [
  {
   "cell_type": "code",
   "execution_count": 11,
   "id": "8456b2a7",
   "metadata": {},
   "outputs": [
    {
     "ename": "",
     "evalue": "",
     "output_type": "error",
     "traceback": [
      "\u001b[1;31mThe Kernel crashed while executing code in the the current cell or a previous cell. Please review the code in the cell(s) to identify a possible cause of the failure. Click <a href='https://aka.ms/vscodeJupyterKernelCrash'>here</a> for more info. View Jupyter <a href='command:jupyter.viewOutput'>log</a> for further details."
     ]
    }
   ],
   "source": [
    "import networkx as nx\n",
    "\n",
    "nx_graph = nx.read_graphml(\"../data/graph_metric.graphml\")"
   ]
  },
  {
   "cell_type": "code",
   "execution_count": 4,
   "id": "b735e835-ae39-4f76-a45b-effd3c1b49a8",
   "metadata": {},
   "outputs": [
    {
     "name": "stderr",
     "output_type": "stream",
     "text": [
      "/var/folders/kc/c74q_vx95dx4__wm8dtz6q540000gn/T/ipykernel_65682/3315175042.py:4: RuntimeWarning: Ignoring <key id=\"found\"> because of a missing 'attr.type' attribute. at src/io/graphml.c:751\n",
      "  graph = Graph.Read_GraphML(\"../data/graph_metric.graphml\")\n",
      "/var/folders/kc/c74q_vx95dx4__wm8dtz6q540000gn/T/ipykernel_65682/3315175042.py:4: RuntimeWarning: Ignoring <key id=\"id\"> because of a missing 'attr.type' attribute. at src/io/graphml.c:751\n",
      "  graph = Graph.Read_GraphML(\"../data/graph_metric.graphml\")\n",
      "/var/folders/kc/c74q_vx95dx4__wm8dtz6q540000gn/T/ipykernel_65682/3315175042.py:4: RuntimeWarning: Ignoring <key id=\"type\"> because of a missing 'attr.type' attribute. at src/io/graphml.c:751\n",
      "  graph = Graph.Read_GraphML(\"../data/graph_metric.graphml\")\n",
      "/var/folders/kc/c74q_vx95dx4__wm8dtz6q540000gn/T/ipykernel_65682/3315175042.py:4: RuntimeWarning: Ignoring <key id=\"version\"> because of a missing 'attr.type' attribute. at src/io/graphml.c:751\n",
      "  graph = Graph.Read_GraphML(\"../data/graph_metric.graphml\")\n",
      "/var/folders/kc/c74q_vx95dx4__wm8dtz6q540000gn/T/ipykernel_65682/3315175042.py:4: RuntimeWarning: Ignoring <key id=\"value\"> because of a missing 'attr.type' attribute. at src/io/graphml.c:751\n",
      "  graph = Graph.Read_GraphML(\"../data/graph_metric.graphml\")\n",
      "/var/folders/kc/c74q_vx95dx4__wm8dtz6q540000gn/T/ipykernel_65682/3315175042.py:4: RuntimeWarning: Ignoring <key id=\"labels\"> because of a missing 'attr.type' attribute. at src/io/graphml.c:751\n",
      "  graph = Graph.Read_GraphML(\"../data/graph_metric.graphml\")\n",
      "/var/folders/kc/c74q_vx95dx4__wm8dtz6q540000gn/T/ipykernel_65682/3315175042.py:4: RuntimeWarning: Ignoring <key id=\"timestamp\"> because of a missing 'attr.type' attribute. at src/io/graphml.c:751\n",
      "  graph = Graph.Read_GraphML(\"../data/graph_metric.graphml\")\n",
      "/var/folders/kc/c74q_vx95dx4__wm8dtz6q540000gn/T/ipykernel_65682/3315175042.py:4: RuntimeWarning: Ignoring <key id=\"scope\"> because of a missing 'attr.type' attribute. at src/io/graphml.c:751\n",
      "  graph = Graph.Read_GraphML(\"../data/graph_metric.graphml\")\n",
      "/var/folders/kc/c74q_vx95dx4__wm8dtz6q540000gn/T/ipykernel_65682/3315175042.py:4: RuntimeWarning: Ignoring <key id=\"label\"> because of a missing 'attr.type' attribute. at src/io/graphml.c:751\n",
      "  graph = Graph.Read_GraphML(\"../data/graph_metric.graphml\")\n",
      "/var/folders/kc/c74q_vx95dx4__wm8dtz6q540000gn/T/ipykernel_65682/3315175042.py:4: RuntimeWarning: Ignoring <key id=\"targetVersion\"> because of a missing 'attr.type' attribute. at src/io/graphml.c:751\n",
      "  graph = Graph.Read_GraphML(\"../data/graph_metric.graphml\")\n",
      "/var/folders/kc/c74q_vx95dx4__wm8dtz6q540000gn/T/ipykernel_65682/3315175042.py:4: RuntimeWarning: Could not add vertex ids, there is already an 'id' vertex attribute. at src/io/graphml.c:488\n",
      "  graph = Graph.Read_GraphML(\"../data/graph_metric.graphml\")\n"
     ]
    },
    {
     "name": "stdout",
     "output_type": "stream",
     "text": [
      "IGRAPH D--- 59152712 178155040 -- \n",
      "+ attr: id (e)\n"
     ]
    }
   ],
   "source": [
    "from igraph import Graph\n",
    "\n",
    "# load the graph froma GraphML file\n",
    "graph = Graph.Read_GraphML(\"../data/graph_metric.graphml\")\n",
    "\n",
    "print(graph.summary())"
   ]
  },
  {
   "cell_type": "markdown",
   "id": "1cb53bd8",
   "metadata": {},
   "source": [
    "## Explore node attributes"
   ]
  },
  {
   "cell_type": "code",
   "execution_count": 8,
   "id": "8ba21167",
   "metadata": {},
   "outputs": [],
   "source": [
    "# print the first 10 vertex attributes\n",
    "for v in graph.vs[:100000]:\n",
    "    if v.attributes() != {}:\n",
    "        print(f\"Vertex ID: {v.index}, Attributes: {v.attributes()}\")"
   ]
  },
  {
   "cell_type": "code",
   "execution_count": 10,
   "id": "711a4602",
   "metadata": {},
   "outputs": [
    {
     "name": "stdout",
     "output_type": "stream",
     "text": [
      "dict_items([])\n"
     ]
    }
   ],
   "source": [
    "node = graph.vs[0]\n",
    "print(node.attributes().items())"
   ]
  },
  {
   "cell_type": "code",
   "execution_count": 6,
   "id": "8428619e",
   "metadata": {},
   "outputs": [
    {
     "name": "stdout",
     "output_type": "stream",
     "text": [
      "Edge ID: 0, Attributes: {'id': 'e0'}\n",
      "Edge ID: 1, Attributes: {'id': 'e1'}\n",
      "Edge ID: 2, Attributes: {'id': 'e2'}\n",
      "Edge ID: 3, Attributes: {'id': 'e3'}\n",
      "Edge ID: 4, Attributes: {'id': 'e4'}\n",
      "Edge ID: 5, Attributes: {'id': 'e5'}\n",
      "Edge ID: 6, Attributes: {'id': 'e6'}\n",
      "Edge ID: 7, Attributes: {'id': 'e7'}\n",
      "Edge ID: 8, Attributes: {'id': 'e8'}\n",
      "Edge ID: 9, Attributes: {'id': 'e9'}\n"
     ]
    }
   ],
   "source": [
    "for e in graph.es[:10]:  # Access the first 10 edges\n",
    "    print(f\"Edge ID: {e.index}, Attributes: {e.attributes()}\")"
   ]
  },
  {
   "cell_type": "code",
   "execution_count": null,
   "id": "408d60e8",
   "metadata": {},
   "outputs": [],
   "source": []
  }
 ],
 "metadata": {
  "kernelspec": {
   "display_name": "Python 3 (ipykernel)",
   "language": "python",
   "name": "python3"
  },
  "language_info": {
   "codemirror_mode": {
    "name": "ipython",
    "version": 3
   },
   "file_extension": ".py",
   "mimetype": "text/x-python",
   "name": "python",
   "nbconvert_exporter": "python",
   "pygments_lexer": "ipython3",
   "version": "3.10.14"
  }
 },
 "nbformat": 4,
 "nbformat_minor": 5
}
