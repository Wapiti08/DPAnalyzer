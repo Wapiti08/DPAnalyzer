{
 "cells": [
  {
   "cell_type": "code",
   "execution_count": 1,
   "id": "2a96a631-ec2c-4c19-9eb0-a708682c2867",
   "metadata": {},
   "outputs": [],
   "source": [
    "import networkx as nx\n"
   ]
  },
  {
   "cell_type": "code",
   "execution_count": null,
   "id": "69772fe2-1bc3-4e62-94cd-8921ae586411",
   "metadata": {},
   "outputs": [],
   "source": [
    "graph_metric_ml = nx.read_graphml(\"../data/graph_no_metric.graphml\")"
   ]
  },
  {
   "cell_type": "code",
   "execution_count": null,
   "id": "b735e835-ae39-4f76-a45b-effd3c1b49a8",
   "metadata": {},
   "outputs": [],
   "source": []
  }
 ],
 "metadata": {
  "kernelspec": {
   "display_name": "Python 3 (ipykernel)",
   "language": "python",
   "name": "python3"
  },
  "language_info": {
   "codemirror_mode": {
    "name": "ipython",
    "version": 3
   },
   "file_extension": ".py",
   "mimetype": "text/x-python",
   "name": "python",
   "nbconvert_exporter": "python",
   "pygments_lexer": "ipython3",
   "version": "3.8.10"
  }
 },
 "nbformat": 4,
 "nbformat_minor": 5
}
