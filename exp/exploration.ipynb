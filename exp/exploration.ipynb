{
 "cells": [
  {
   "cell_type": "markdown",
   "metadata": {},
   "source": [
    "Comparison between orignal Graphs and Graphs with metric"
   ]
  },
  {
   "cell_type": "code",
   "execution_count": 1,
   "metadata": {},
   "outputs": [],
   "source": [
    "import networkx as nx\n",
    "import pandas as pd\n",
    "import csv\n"
   ]
  },
  {
   "cell_type": "code",
   "execution_count": 2,
   "metadata": {},
   "outputs": [
    {
     "name": "stdout",
     "output_type": "stream",
     "text": [
      "['_id', '_labels', 'found', 'id', 'timestamp', 'type', 'value', 'version', '_start', '_end', '_type', 'scope', 'targetVersion']\n"
     ]
    }
   ],
   "source": [
    "def get_column_names(file_path):\n",
    "    with open(file_path, 'r') as file:\n",
    "        reader = csv.reader(file)\n",
    "        header = next(reader)  # Read the first line\n",
    "    return header\n",
    "\n",
    "file_path = '../data/graph_metric.csv'\n",
    "columns = get_column_names(file_path)\n",
    "print(columns)"
   ]
  },
  {
   "cell_type": "code",
   "execution_count": 10,
   "metadata": {},
   "outputs": [
    {
     "name": "stdout",
     "output_type": "stream",
     "text": [
      "Index(['_id', '_labels', 'found', 'id', 'timestamp', 'type', 'value',\n",
      "       'version', '_start', '_end', '_type', 'scope', 'targetVersion'],\n",
      "      dtype='object')\n"
     ]
    }
   ],
   "source": [
    "graph_metric_csv = pd.read_csv(\"../data/graph_metric.csv\", nrows=20)\n",
    "print(graph_metric_csv.columns)"
   ]
  },
  {
   "cell_type": "code",
   "execution_count": 11,
   "metadata": {},
   "outputs": [
    {
     "name": "stdout",
     "output_type": "stream",
     "text": [
      "    _id    _labels found                                                 id  \\\n",
      "0     0  :Artifact  True               com.splendo.kaluga:alerts-androidlib   \n",
      "1     1  :Artifact  True  org.wso2.carbon.identity.framework:org.wso2.ca...   \n",
      "2     2  :Artifact  True  org.apache.camel.quarkus:camel-quarkus-kotlin-...   \n",
      "3     3   :Release   NaN  org.wso2.carbon.identity.framework:org.wso2.ca...   \n",
      "4     4   :Release   NaN  org.apache.camel.quarkus:camel-quarkus-kotlin-...   \n",
      "5     5   :Release   NaN  org.apache.camel.quarkus:camel-quarkus-kotlin-...   \n",
      "6     6   :Release   NaN  org.wso2.carbon.identity.framework:org.wso2.ca...   \n",
      "7     7   :Release   NaN  org.wso2.carbon.identity.framework:org.wso2.ca...   \n",
      "8     8   :Release   NaN  org.wso2.carbon.identity.framework:org.wso2.ca...   \n",
      "9     9   :Release   NaN  org.apache.camel.quarkus:camel-quarkus-kotlin-...   \n",
      "10   10   :Release   NaN  org.apache.camel.quarkus:camel-quarkus-kotlin-...   \n",
      "11   11   :Release   NaN  org.wso2.carbon.identity.framework:org.wso2.ca...   \n",
      "12   12   :Release   NaN         com.splendo.kaluga:alerts-androidlib:0.5.0   \n",
      "13   13   :Release   NaN  org.apache.camel.quarkus:camel-quarkus-kotlin-...   \n",
      "14   14   :Release   NaN  org.wso2.carbon.identity.framework:org.wso2.ca...   \n",
      "15   15  :Artifact  True    io.projectreactor:reactor-scala-extensions_2.11   \n",
      "16   16  :Artifact  True                  com.lihaoyi:ammonite-shell_2.10.5   \n",
      "17   17  :Artifact  True           com.codacy:codacy-engine-scala-seed_2.12   \n",
      "18   18  :Artifact  True                 org.grails:grails-datastore-simple   \n",
      "19   19   :Release   NaN  org.wso2.carbon.identity.framework:org.wso2.ca...   \n",
      "\n",
      "       timestamp  type  value   version  _start  _end  _type  scope  \\\n",
      "0            NaN   NaN    NaN       NaN     NaN   NaN    NaN    NaN   \n",
      "1            NaN   NaN    NaN       NaN     NaN   NaN    NaN    NaN   \n",
      "2            NaN   NaN    NaN       NaN     NaN   NaN    NaN    NaN   \n",
      "3   1.626148e+12   NaN    NaN  5.20.111     NaN   NaN    NaN    NaN   \n",
      "4   1.583240e+12   NaN    NaN  1.0.0-M4     NaN   NaN    NaN    NaN   \n",
      "5   1.579861e+12   NaN    NaN  1.0.0-M3     NaN   NaN    NaN    NaN   \n",
      "6   1.626180e+12   NaN    NaN  5.20.113     NaN   NaN    NaN    NaN   \n",
      "7   1.626171e+12   NaN    NaN  5.20.112     NaN   NaN    NaN    NaN   \n",
      "8   1.626340e+12   NaN    NaN  5.20.115     NaN   NaN    NaN    NaN   \n",
      "9   1.576600e+12   NaN    NaN  1.0.0-M2     NaN   NaN    NaN    NaN   \n",
      "10  1.586476e+12   NaN    NaN  1.0.0-M6     NaN   NaN    NaN    NaN   \n",
      "11  1.626266e+12   NaN    NaN  5.20.114     NaN   NaN    NaN    NaN   \n",
      "12  1.669330e+12   NaN    NaN     0.5.0     NaN   NaN    NaN    NaN   \n",
      "13  1.584206e+12   NaN    NaN  1.0.0-M5     NaN   NaN    NaN    NaN   \n",
      "14  1.626115e+12   NaN    NaN  5.20.110     NaN   NaN    NaN    NaN   \n",
      "15           NaN   NaN    NaN       NaN     NaN   NaN    NaN    NaN   \n",
      "16           NaN   NaN    NaN       NaN     NaN   NaN    NaN    NaN   \n",
      "17           NaN   NaN    NaN       NaN     NaN   NaN    NaN    NaN   \n",
      "18           NaN   NaN    NaN       NaN     NaN   NaN    NaN    NaN   \n",
      "19  1.626443e+12   NaN    NaN  5.20.118     NaN   NaN    NaN    NaN   \n",
      "\n",
      "    targetVersion  \n",
      "0             NaN  \n",
      "1             NaN  \n",
      "2             NaN  \n",
      "3             NaN  \n",
      "4             NaN  \n",
      "5             NaN  \n",
      "6             NaN  \n",
      "7             NaN  \n",
      "8             NaN  \n",
      "9             NaN  \n",
      "10            NaN  \n",
      "11            NaN  \n",
      "12            NaN  \n",
      "13            NaN  \n",
      "14            NaN  \n",
      "15            NaN  \n",
      "16            NaN  \n",
      "17            NaN  \n",
      "18            NaN  \n",
      "19            NaN  \n"
     ]
    }
   ],
   "source": [
    "print(graph_metric_csv)"
   ]
  },
  {
   "cell_type": "code",
   "execution_count": null,
   "metadata": {},
   "outputs": [],
   "source": [
    "# load json file to extend the node info\n"
   ]
  }
 ],
 "metadata": {
  "kernelspec": {
   "display_name": "DPAnalyzer",
   "language": "python",
   "name": "python3"
  },
  "language_info": {
   "codemirror_mode": {
    "name": "ipython",
    "version": 3
   },
   "file_extension": ".py",
   "mimetype": "text/x-python",
   "name": "python",
   "nbconvert_exporter": "python",
   "pygments_lexer": "ipython3",
   "version": "3.10.14"
  }
 },
 "nbformat": 4,
 "nbformat_minor": 2
}
